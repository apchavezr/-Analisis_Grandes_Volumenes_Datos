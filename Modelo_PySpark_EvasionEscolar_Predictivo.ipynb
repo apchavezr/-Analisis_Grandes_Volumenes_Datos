{
  "cells": [
    {
      "cell_type": "markdown",
      "metadata": {
        "id": "view-in-github",
        "colab_type": "text"
      },
      "source": [
        "<a href=\"https://colab.research.google.com/github/apchavezr/-Analisis_Grandes_Volumenes_Datos/blob/main/Modelo_PySpark_EvasionEscolar_Predictivo.ipynb\" target=\"_parent\"><img src=\"https://colab.research.google.com/assets/colab-badge.svg\" alt=\"Open In Colab\"/></a>"
      ]
    },
    {
      "cell_type": "markdown",
      "id": "936883e8",
      "metadata": {
        "id": "936883e8"
      },
      "source": [
        "# 🎓 Predicción de evasión escolar con anonimización y modelo en PySpark\n",
        "Este notebook extiende el análisis anterior simulando la construcción de un modelo predictivo de evasión escolar, respetando los principios de anonimización de datos."
      ]
    },
    {
      "cell_type": "markdown",
      "id": "df7cb5ad",
      "metadata": {
        "id": "df7cb5ad"
      },
      "source": [
        "## 🎯 Objetivo\n",
        "Construir un modelo de regresión logística para predecir la evasión escolar en Bogotá a partir de variables como edad, ausencias y repitencia."
      ]
    },
    {
      "cell_type": "code",
      "execution_count": 1,
      "id": "fc41d29c",
      "metadata": {
        "id": "fc41d29c"
      },
      "outputs": [],
      "source": [
        "# Paso 1: Inicializar sesión de Spark\n",
        "from pyspark.sql import SparkSession\n",
        "spark = SparkSession.builder.appName(\"ModeloEvasionEscolar\").getOrCreate()"
      ]
    },
    {
      "cell_type": "code",
      "execution_count": 2,
      "id": "8472f016",
      "metadata": {
        "colab": {
          "base_uri": "https://localhost:8080/"
        },
        "id": "8472f016",
        "outputId": "2dbfe86f-566e-49ad-de11-872af945e5bb"
      },
      "outputs": [
        {
          "output_type": "stream",
          "name": "stdout",
          "text": [
            "+----+---------+---------+---------+------+----------------------------------------------------------------+\n",
            "|edad|localidad|repitente|ausencias|evadio|id_hash                                                         |\n",
            "+----+---------+---------+---------+------+----------------------------------------------------------------+\n",
            "|14  |Suba     |0        |5        |0     |ccda4464abcb9c2596058e503666e131f6f55e77f89f685a243ba0fc16fc0ac2|\n",
            "|15  |Usme     |1        |20       |1     |15ae7f8e6a895344b20e105af4b717292636619817f4be3683fb4d805ac5212c|\n",
            "|13  |Bosa     |0        |2        |0     |70cbaef19ca9d745093f764b47ccc54654db42f5c9347acd99504365adb2ff01|\n",
            "|14  |Kennedy  |1        |18       |1     |9d048afbff9b552b1f6eec6ee15c9cf56c6e0af1ee4b85bcc9b6468e8abfc86b|\n",
            "|15  |Chapinero|0        |0        |0     |9a878dc8cef4d72dc82c125b9dc8dcb3db4690f41f9a45bdfa1a511f08cc58c2|\n",
            "|13  |Engativá |1        |12       |1     |afa01fe6b2e8ce5fc9ab83e1dd6665a15c7e95b1e09a6a3cbbdad5eef7eb7e34|\n",
            "|14  |Fontibón |0        |6        |0     |87ed580bdc6998bf8cdd8b49c825e7c5a4a8aad500ac7a172a35a3d6294d540e|\n",
            "|15  |Usaquén  |0        |1        |0     |b8e40573c6171b706516fc5636dce989b9f98c0f050ba72eb193f275551de9a3|\n",
            "+----+---------+---------+---------+------+----------------------------------------------------------------+\n",
            "\n"
          ]
        }
      ],
      "source": [
        "# Paso 2: Datos simulados anonimizados\n",
        "data = [\n",
        "    (\"STU001\", 14, \"Suba\", 0, 5, 0),\n",
        "    (\"STU002\", 15, \"Usme\", 1, 20, 1),\n",
        "    (\"STU003\", 13, \"Bosa\", 0, 2, 0),\n",
        "    (\"STU004\", 14, \"Kennedy\", 1, 18, 1),\n",
        "    (\"STU005\", 15, \"Chapinero\", 0, 0, 0),\n",
        "    (\"STU006\", 13, \"Engativá\", 1, 12, 1),\n",
        "    (\"STU007\", 14, \"Fontibón\", 0, 6, 0),\n",
        "    (\"STU008\", 15, \"Usaquén\", 0, 1, 0)\n",
        "]\n",
        "columnas = [\"id_estudiante\", \"edad\", \"localidad\", \"repitente\", \"ausencias\", \"evadio\"]\n",
        "from pyspark.sql.functions import sha2, lit\n",
        "df = spark.createDataFrame(data, columnas)\n",
        "df = df.withColumn(\"id_hash\", sha2(df.id_estudiante, 256)).drop(\"id_estudiante\")\n",
        "df.show(truncate=False)"
      ]
    },
    {
      "cell_type": "markdown",
      "id": "75e966d8",
      "metadata": {
        "id": "75e966d8"
      },
      "source": [
        "## 📈 Paso 3: Construcción del modelo con PySpark ML"
      ]
    },
    {
      "cell_type": "code",
      "execution_count": 3,
      "id": "340ec031",
      "metadata": {
        "colab": {
          "base_uri": "https://localhost:8080/"
        },
        "id": "340ec031",
        "outputId": "3e15f6a6-1cfb-4c36-ed2a-2a4b8302120f"
      },
      "outputs": [
        {
          "output_type": "stream",
          "name": "stdout",
          "text": [
            "+---------------+------+\n",
            "|features       |evadio|\n",
            "+---------------+------+\n",
            "|[14.0,0.0,5.0] |0     |\n",
            "|[15.0,1.0,20.0]|1     |\n",
            "|[13.0,0.0,2.0] |0     |\n",
            "|[14.0,1.0,18.0]|1     |\n",
            "|[15.0,0.0,0.0] |0     |\n",
            "|[13.0,1.0,12.0]|1     |\n",
            "|[14.0,0.0,6.0] |0     |\n",
            "|[15.0,0.0,1.0] |0     |\n",
            "+---------------+------+\n",
            "\n"
          ]
        }
      ],
      "source": [
        "# Selección de variables predictoras\n",
        "from pyspark.ml.feature import VectorAssembler\n",
        "ensamblador = VectorAssembler(\n",
        "    inputCols=[\"edad\", \"repitente\", \"ausencias\"],\n",
        "    outputCol=\"features\"\n",
        ")\n",
        "df_modelo = ensamblador.transform(df)\n",
        "df_modelo.select(\"features\", \"evadio\").show(truncate=False)"
      ]
    },
    {
      "cell_type": "code",
      "execution_count": 4,
      "id": "805ecf7c",
      "metadata": {
        "colab": {
          "base_uri": "https://localhost:8080/"
        },
        "id": "805ecf7c",
        "outputId": "64f74115-f4a8-4708-e4aa-1ba361aae582"
      },
      "outputs": [
        {
          "output_type": "stream",
          "name": "stdout",
          "text": [
            "+---------------+----------+-------------------------------------------+------+\n",
            "|features       |prediction|probability                                |evadio|\n",
            "+---------------+----------+-------------------------------------------+------+\n",
            "|[14.0,0.0,5.0] |0.0       |[0.9999999925881196,7.4118804427314444E-9] |0     |\n",
            "|[15.0,1.0,20.0]|1.0       |[2.4775141468262574E-9,0.9999999975224858] |1     |\n",
            "|[13.0,0.0,2.0] |0.0       |[0.9999999932207237,6.77927625147845E-9]   |0     |\n",
            "|[14.0,1.0,18.0]|1.0       |[1.1733366568283796E-9,0.9999999988266633] |1     |\n",
            "|[15.0,0.0,0.0] |0.0       |[0.9999999999899547,1.0045297926808416E-11]|0     |\n",
            "|[13.0,1.0,12.0]|1.0       |[1.578277732311376E-8,0.9999999842172227]  |1     |\n",
            "|[14.0,0.0,6.0] |0.0       |[0.9999999828893317,1.711066832665864E-8]  |0     |\n",
            "|[15.0,0.0,1.0] |0.0       |[0.9999999999768099,2.3190116493765345E-11]|0     |\n",
            "+---------------+----------+-------------------------------------------+------+\n",
            "\n"
          ]
        }
      ],
      "source": [
        "# Entrenamiento del modelo de regresión logística\n",
        "from pyspark.ml.classification import LogisticRegression\n",
        "lr = LogisticRegression(featuresCol=\"features\", labelCol=\"evadio\")\n",
        "modelo = lr.fit(df_modelo)\n",
        "predicciones = modelo.transform(df_modelo)\n",
        "predicciones.select(\"features\", \"prediction\", \"probability\", \"evadio\").show(truncate=False)"
      ]
    },
    {
      "cell_type": "markdown",
      "id": "72730131",
      "metadata": {
        "id": "72730131"
      },
      "source": [
        "## ✅ Conclusión\n",
        "- Se construyó un modelo básico de predicción de evasión escolar utilizando PySpark.\n",
        "- El modelo tiene en cuenta edad, ausencias y repitencia como variables predictoras.\n",
        "- Todos los datos fueron anonimizados para proteger la identidad de los estudiantes."
      ]
    }
  ],
  "metadata": {
    "colab": {
      "provenance": [],
      "include_colab_link": true
    },
    "language_info": {
      "name": "python"
    },
    "kernelspec": {
      "name": "python3",
      "display_name": "Python 3"
    }
  },
  "nbformat": 4,
  "nbformat_minor": 5
}