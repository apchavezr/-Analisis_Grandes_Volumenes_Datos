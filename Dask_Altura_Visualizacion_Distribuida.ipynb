{
  "cells": [
    {
      "cell_type": "markdown",
      "metadata": {
        "id": "view-in-github",
        "colab_type": "text"
      },
      "source": [
        "<a href=\"https://colab.research.google.com/github/apchavezr/-Analisis_Grandes_Volumenes_Datos/blob/main/Dask_Altura_Visualizacion_Distribuida.ipynb\" target=\"_parent\"><img src=\"https://colab.research.google.com/assets/colab-badge.svg\" alt=\"Open In Colab\"/></a>"
      ]
    },
    {
      "cell_type": "markdown",
      "id": "2ea547d8",
      "metadata": {
        "id": "2ea547d8"
      },
      "source": [
        "\n",
        "# Procesamiento distribuido con Dask y visualización\n",
        "\n",
        "Este notebook presenta un ejemplo de uso de **Dask** para análisis distribuido de datos y su visualización, usando un dataset de estaturas y pesos. Ilustra cómo esta herramienta permite escalar operaciones sobre grandes volúmenes de datos en Python de forma eficiente.\n",
        "\n",
        "### Objetivos:\n",
        "- Leer un archivo CSV de tamaño considerable usando Dask.\n",
        "- Calcular estadísticas básicas sobre estaturas.\n",
        "- Visualizar la distribución de alturas mediante un histograma.\n"
      ]
    },
    {
      "cell_type": "code",
      "execution_count": 1,
      "id": "6b3de5ce",
      "metadata": {
        "colab": {
          "base_uri": "https://localhost:8080/"
        },
        "id": "6b3de5ce",
        "outputId": "3bd3717e-16ae-4e66-98af-51d514f44f57"
      },
      "outputs": [
        {
          "output_type": "stream",
          "name": "stdout",
          "text": [
            "\u001b[?25l   \u001b[90m━━━━━━━━━━━━━━━━━━━━━━━━━━━━━━━━━━━━━━━━\u001b[0m \u001b[32m0.0/1.3 MB\u001b[0m \u001b[31m?\u001b[0m eta \u001b[36m-:--:--\u001b[0m\r\u001b[2K   \u001b[91m━━━━━━━━━\u001b[0m\u001b[90m╺\u001b[0m\u001b[90m━━━━━━━━━━━━━━━━━━━━━━━━━━━━━━\u001b[0m \u001b[32m0.3/1.3 MB\u001b[0m \u001b[31m8.5 MB/s\u001b[0m eta \u001b[36m0:00:01\u001b[0m\r\u001b[2K   \u001b[91m━━━━━━━━━━━━━━━━━━━━━━━━━━━━━━━━━━━━━━━\u001b[0m\u001b[91m╸\u001b[0m \u001b[32m1.3/1.3 MB\u001b[0m \u001b[31m23.2 MB/s\u001b[0m eta \u001b[36m0:00:01\u001b[0m\r\u001b[2K   \u001b[90m━━━━━━━━━━━━━━━━━━━━━━━━━━━━━━━━━━━━━━━━\u001b[0m \u001b[32m1.3/1.3 MB\u001b[0m \u001b[31m14.3 MB/s\u001b[0m eta \u001b[36m0:00:00\u001b[0m\n",
            "\u001b[?25h"
          ]
        }
      ],
      "source": [
        "\n",
        "!pip install -q dask[complete] matplotlib\n"
      ]
    },
    {
      "cell_type": "code",
      "execution_count": 2,
      "id": "dea2a543",
      "metadata": {
        "colab": {
          "base_uri": "https://localhost:8080/"
        },
        "id": "dea2a543",
        "outputId": "e522f3c1-4878-4ac0-b80a-c38ba9ba39cf"
      },
      "outputs": [
        {
          "output_type": "stream",
          "name": "stdout",
          "text": [
            "Estatura promedio: 67.95 pulgadas\n"
          ]
        }
      ],
      "source": [
        "\n",
        "import dask.dataframe as dd\n",
        "import matplotlib.pyplot as plt\n",
        "\n",
        "# Cargar el dataset\n",
        "url = 'https://people.sc.fsu.edu/~jburkardt/data/csv/hw_200.csv'\n",
        "df = dd.read_csv(url)\n",
        "\n",
        "# Limpiar nombres de columnas\n",
        "df.columns = [col.strip().replace('\"','') for col in df.columns]\n",
        "\n",
        "# Calcular la media de estatura\n",
        "media_estatura = df['Height(Inches)'].mean().compute()\n",
        "\n",
        "print(f\"Estatura promedio: {media_estatura:.2f} pulgadas\")\n"
      ]
    },
    {
      "cell_type": "code",
      "execution_count": 3,
      "id": "7d65555d",
      "metadata": {
        "colab": {
          "base_uri": "https://localhost:8080/",
          "height": 487
        },
        "id": "7d65555d",
        "outputId": "96efb3f6-82ec-44bc-b004-84ddb0bc22ef"
      },
      "outputs": [
        {
          "output_type": "display_data",
          "data": {
            "text/plain": [
              "<Figure size 640x480 with 1 Axes>"
            ],
            "image/png": "[encoded data removed]"
          },
          "metadata": {}
        }
      ],
      "source": [
        "\n",
        "# Convertir a pandas para visualización (solo columna de interés)\n",
        "df_pandas = df['Height(Inches)'].compute()\n",
        "\n",
        "# Visualizar la distribución de estaturas\n",
        "plt.hist(df_pandas, bins=20, color='mediumseagreen', edgecolor='black')\n",
        "plt.title('Distribución de Estaturas')\n",
        "plt.xlabel('Estatura (pulgadas)')\n",
        "plt.ylabel('Frecuencia')\n",
        "plt.grid(True)\n",
        "plt.tight_layout()\n",
        "plt.show()\n"
      ]
    },
    {
      "cell_type": "markdown",
      "id": "16666c30",
      "metadata": {
        "id": "16666c30"
      },
      "source": [
        "\n",
        "### Conclusión\n",
        "\n",
        "Este ejercicio demuestra cómo Dask permite manejar archivos CSV grandes y realizar análisis distribuidos de manera eficiente. Además, al integrarse con bibliotecas como Matplotlib, facilita la generación de visualizaciones comprensibles para explorar los datos antes de aplicar técnicas más complejas de modelado.\n",
        "\n",
        "Este flujo de trabajo es útil en contextos de salud, educación o investigación social, donde se manejan bases de datos voluminosas con métricas antropométricas o poblacionales.\n"
      ]
    }
  ],
  "metadata": {
    "colab": {
      "provenance": [],
      "include_colab_link": true
    },
    "language_info": {
      "name": "python"
    },
    "kernelspec": {
      "name": "python3",
      "display_name": "Python 3"
    }
  },
  "nbformat": 4,
  "nbformat_minor": 5
}