{
  "cells": [
    {
      "cell_type": "markdown",
      "metadata": {
        "id": "view-in-github",
        "colab_type": "text"
      },
      "source": [
        "<a href=\"https://colab.research.google.com/github/apchavezr/-Analisis_Grandes_Volumenes_Datos/blob/main/Ejercicio_PySpark_RutasGPS_Transporte.ipynb\" target=\"_parent\"><img src=\"https://colab.research.google.com/assets/colab-badge.svg\" alt=\"Open In Colab\"/></a>"
      ]
    },
    {
      "cell_type": "markdown",
      "id": "9cab0177",
      "metadata": {
        "id": "9cab0177"
      },
      "source": [
        "# 🚛 Análisis de rutas GPS en el sector transporte usando PySpark\n",
        "Este ejercicio simula el procesamiento de registros GPS para una empresa del sector transporte. Se analizará la distancia recorrida y la eficiencia de los trayectos usando PySpark."
      ]
    },
    {
      "cell_type": "markdown",
      "id": "ab65fc00",
      "metadata": {
        "id": "ab65fc00"
      },
      "source": [
        "## 🎯 Objetivo\n",
        "Simular datos de rutas de vehículos y calcular distancias totales por vehículo, trayectos promedio y eficiencia de rutas usando procesamiento distribuido."
      ]
    },
    {
      "cell_type": "code",
      "execution_count": 1,
      "id": "341513bb",
      "metadata": {
        "id": "341513bb"
      },
      "outputs": [],
      "source": [
        "# Paso 1: Inicializar sesión de Spark\n",
        "from pyspark.sql import SparkSession\n",
        "spark = SparkSession.builder.appName(\"RutasGPS_Transporte\").getOrCreate()"
      ]
    },
    {
      "cell_type": "code",
      "execution_count": 2,
      "id": "1f0c3cd1",
      "metadata": {
        "colab": {
          "base_uri": "https://localhost:8080/"
        },
        "id": "1f0c3cd1",
        "outputId": "ea8afd11-939e-46cb-c79e-a3891451cf2b"
      },
      "outputs": [
        {
          "output_type": "stream",
          "name": "stdout",
          "text": [
            "+--------+----------+------------+------------+\n",
            "|vehiculo|     fecha|distancia_km|duracion_min|\n",
            "+--------+----------+------------+------------+\n",
            "|    V001|2024-01-01|       120.5|         150|\n",
            "|    V001|2024-01-02|       130.0|         160|\n",
            "|    V002|2024-01-01|        95.0|         120|\n",
            "|    V002|2024-01-02|       100.0|         130|\n",
            "|    V003|2024-01-01|        80.0|         110|\n",
            "|    V003|2024-01-02|        90.0|         115|\n",
            "+--------+----------+------------+------------+\n",
            "\n"
          ]
        }
      ],
      "source": [
        "# Paso 2: Crear datos simulados de rutas GPS (vehículo, fecha, distancia_km, duración_minutos)\n",
        "data = [\n",
        "    (\"V001\", \"2024-01-01\", 120.5, 150),\n",
        "    (\"V001\", \"2024-01-02\", 130.0, 160),\n",
        "    (\"V002\", \"2024-01-01\", 95.0, 120),\n",
        "    (\"V002\", \"2024-01-02\", 100.0, 130),\n",
        "    (\"V003\", \"2024-01-01\", 80.0, 110),\n",
        "    (\"V003\", \"2024-01-02\", 90.0, 115),\n",
        "]\n",
        "columnas = [\"vehiculo\", \"fecha\", \"distancia_km\", \"duracion_min\"]\n",
        "df = spark.createDataFrame(data, columnas)\n",
        "df.show()"
      ]
    },
    {
      "cell_type": "code",
      "execution_count": 3,
      "id": "50dc168d",
      "metadata": {
        "colab": {
          "base_uri": "https://localhost:8080/"
        },
        "id": "50dc168d",
        "outputId": "b845622c-7491-4b36-e61b-8b294f2b31b2"
      },
      "outputs": [
        {
          "output_type": "stream",
          "name": "stdout",
          "text": [
            "+--------+--------+\n",
            "|vehiculo|total_km|\n",
            "+--------+--------+\n",
            "|    V001|   250.5|\n",
            "|    V002|   195.0|\n",
            "|    V003|   170.0|\n",
            "+--------+--------+\n",
            "\n"
          ]
        }
      ],
      "source": [
        "# Paso 3: Calcular distancia total recorrida por vehículo\n",
        "from pyspark.sql.functions import sum\n",
        "df.groupBy(\"vehiculo\").agg(sum(\"distancia_km\").alias(\"total_km\")).show()"
      ]
    },
    {
      "cell_type": "code",
      "execution_count": 7,
      "id": "0406e306",
      "metadata": {
        "colab": {
          "base_uri": "https://localhost:8080/"
        },
        "id": "0406e306",
        "outputId": "922ec492-8c07-4e45-fad2-4c218fc50998"
      },
      "outputs": [
        {
          "output_type": "stream",
          "name": "stdout",
          "text": [
            "+--------+----------+------------+------------+------------------+\n",
            "|vehiculo|     fecha|distancia_km|duracion_min|velocidad_promedio|\n",
            "+--------+----------+------------+------------+------------------+\n",
            "|    V001|2024-01-01|       120.5|         150|              48.2|\n",
            "|    V001|2024-01-02|       130.0|         160|             48.75|\n",
            "|    V002|2024-01-01|        95.0|         120|              47.5|\n",
            "|    V002|2024-01-02|       100.0|         130|             46.15|\n",
            "|    V003|2024-01-01|        80.0|         110|             43.64|\n",
            "|    V003|2024-01-02|        90.0|         115|             46.96|\n",
            "+--------+----------+------------+------------+------------------+\n",
            "\n"
          ]
        }
      ],
      "source": [
        "# Paso 4: Calcular tiempo promedio por trayecto y velocidad promedio\n",
        "from pyspark.sql.functions import avg, round\n",
        "df = df.withColumn(\"velocidad_promedio\", round(df[\"distancia_km\"] / (df[\"duracion_min\"] / 60), 2))\n",
        "df.select(\"vehiculo\", \"fecha\", \"distancia_km\", \"duracion_min\", \"velocidad_promedio\").show()"
      ]
    },
    {
      "cell_type": "code",
      "execution_count": 9,
      "id": "2deb4e29",
      "metadata": {
        "colab": {
          "base_uri": "https://localhost:8080/"
        },
        "id": "2deb4e29",
        "outputId": "a3c72608-143a-4968-ef6b-de8ff858a30a"
      },
      "outputs": [
        {
          "output_type": "stream",
          "name": "stdout",
          "text": [
            "+--------+--------------------+\n",
            "|vehiculo|vel_promedio_general|\n",
            "+--------+--------------------+\n",
            "|    V001|              48.475|\n",
            "|    V002|              46.825|\n",
            "|    V003|                45.3|\n",
            "+--------+--------------------+\n",
            "\n"
          ]
        }
      ],
      "source": [
        "# Paso 5: Comparar eficiencia entre vehículos\n",
        "df.groupBy(\"vehiculo\") \\\n",
        "  .agg(avg(\"velocidad_promedio\").alias(\"vel_promedio_general\")) \\\n",
        "  .orderBy(\"vel_promedio_general\", ascending=False) \\\n",
        "  .show()"
      ]
    },
    {
      "cell_type": "markdown",
      "id": "621f12ea",
      "metadata": {
        "id": "621f12ea"
      },
      "source": [
        "## ✅ Conclusión\n",
        "- Este ejercicio demuestra cómo Spark puede procesar rápidamente grandes volúmenes de registros GPS.\n",
        "- En contextos reales, esto se escala a millones de registros diarios.\n",
        "- Usando clústeres Spark con 10 nodos, el tiempo de análisis puede reducirse de 6 horas a menos de 30 minutos.\n",
        "- Estos análisis permiten optimizar rutas, reducir costos operativos y mejorar tiempos de entrega en el sector transporte."
      ]
    }
  ],
  "metadata": {
    "colab": {
      "provenance": [],
      "include_colab_link": true
    },
    "language_info": {
      "name": "python"
    },
    "kernelspec": {
      "name": "python3",
      "display_name": "Python 3"
    }
  },
  "nbformat": 4,
  "nbformat_minor": 5
}