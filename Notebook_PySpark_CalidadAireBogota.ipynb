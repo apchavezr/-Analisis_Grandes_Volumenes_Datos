{
  "cells": [
    {
      "cell_type": "markdown",
      "metadata": {
        "id": "view-in-github",
        "colab_type": "text"
      },
      "source": [
        "<a href=\"https://colab.research.google.com/github/apchavezr/-Analisis_Grandes_Volumenes_Datos/blob/main/Notebook_PySpark_CalidadAireBogota.ipynb\" target=\"_parent\"><img src=\"https://colab.research.google.com/assets/colab-badge.svg\" alt=\"Open In Colab\"/></a>"
      ]
    },
    {
      "cell_type": "markdown",
      "metadata": {
        "id": "hMwh8wQEuw0F"
      },
      "source": [
        "# Análisis de Datos de Calidad del Aire en Bogotá con PySpark\n",
        "\n",
        "Este cuaderno tiene como objetivo facilitar la comprensión de los modelos de clasificación y regresión en entornos de Big Data utilizando Apache Spark. Se trabajará con un conjunto de datos público sobre calidad del aire en Bogotá, Colombia.\n",
        "\n",
        "Los objetivos específicos son:\n",
        "- Cargar y explorar datos ambientales de Bogotá.\n",
        "- Aplicar regresión lineal para predecir valores continuos de concentración de contaminantes.\n",
        "- Aplicar clasificación para categorizar niveles de calidad del aire.\n",
        "- Demostrar el uso de `SparkSession`, `DataFrames`, y `MLlib` para construir pipelines analíticos escalables.\n",
        "\n",
        "Este notebook puede ejecutarse en Google Colab con PySpark configurado o en plataformas como Databricks."
      ]
    },
    {
      "cell_type": "code",
      "execution_count": 1,
      "metadata": {
        "colab": {
          "base_uri": "https://localhost:8080/"
        },
        "id": "BioCj5Rruw0G",
        "outputId": "e4e35c12-03ee-42ae-acb2-3b4c770a9176"
      },
      "outputs": [
        {
          "output_type": "stream",
          "name": "stdout",
          "text": [
            "Requirement already satisfied: pyspark in /usr/local/lib/python3.11/dist-packages (3.5.5)\n",
            "Requirement already satisfied: py4j==0.10.9.7 in /usr/local/lib/python3.11/dist-packages (from pyspark) (0.10.9.7)\n"
          ]
        }
      ],
      "source": [
        "# Instalación de PySpark en Google Colab (solo ejecutar en Colab)\n",
        "!pip install pyspark"
      ]
    },
    {
      "cell_type": "code",
      "execution_count": 2,
      "metadata": {
        "id": "y7EC9prIuw0H"
      },
      "outputs": [],
      "source": [
        "# Importar librerías principales\n",
        "from pyspark.sql import SparkSession\n",
        "from pyspark.ml.feature import VectorAssembler, StringIndexer\n",
        "from pyspark.ml.regression import LinearRegression\n",
        "from pyspark.ml.classification import LogisticRegression\n",
        "from pyspark.ml import Pipeline\n",
        "from pyspark.ml.evaluation import RegressionEvaluator, MulticlassClassificationEvaluator"
      ]
    },
    {
      "cell_type": "code",
      "execution_count": 3,
      "metadata": {
        "id": "dNY3mEVpuw0H"
      },
      "outputs": [],
      "source": [
        "# Crear sesión de Spark\n",
        "spark = SparkSession.builder.appName(\"CalidadAireBogota\").getOrCreate()"
      ]
    },
    {
      "cell_type": "markdown",
      "metadata": {
        "id": "JohgVPsxuw0H"
      },
      "source": [
        "## Cargar los datos\n",
        "Puede utilizar un archivo CSV con datos de calidad del aire, por ejemplo desde [datos.gov.co](https://www.datos.gov.co/).\n",
        "Para este ejercicio, simulemos un DataFrame similar con variables de interés."
      ]
    },
    {
      "cell_type": "markdown",
      "metadata": {
        "id": "YBm2eHmbuw0I"
      },
      "source": [
        "### Enlace a datos reales\n",
        "Puede descargar datos reales de calidad del aire en Bogotá desde el portal oficial de datos abiertos:\n",
        "- [Datos históricos de calidad del aire - Bogotá](https://www.datos.gov.co/Medio-Ambiente/Calidad-del-aire-en-Bogot-D-C-historico/j8gt-88jc)\n",
        "\n",
        "Para este notebook, si desea utilizar ese dataset, debe cargarlo desde su computador o desde una URL pública usando `pandas` y convertirlo luego a un DataFrame de PySpark."
      ]
    },
    {
      "cell_type": "code",
      "execution_count": 5,
      "metadata": {
        "colab": {
          "base_uri": "https://localhost:8080/"
        },
        "id": "iI3yk73Iuw0I",
        "outputId": "56fdd695-21c4-4ec9-a1c8-216ff68d27d1"
      },
      "outputs": [
        {
          "output_type": "stream",
          "name": "stdout",
          "text": [
            "+----+----+----+---------+\n",
            "|PM10| NO2|  O3|Categoria|\n",
            "+----+----+----+---------+\n",
            "|30.5|22.0|40.3|    Buena|\n",
            "|55.1|28.3|60.2| Moderada|\n",
            "|70.2|35.1|80.5|   Dañina|\n",
            "|25.3|18.4|35.0|    Buena|\n",
            "+----+----+----+---------+\n",
            "\n"
          ]
        }
      ],
      "source": [
        "from pyspark.sql.types import StructType, StructField, DoubleType, StringType\n",
        "data = [\n",
        "    (30.5, 22.0, 40.3, 'Buena'),\n",
        "    (55.1, 28.3, 60.2, 'Moderada'),\n",
        "    (70.2, 35.1, 80.5, 'Dañina'),\n",
        "    (25.3, 18.4, 35.0, 'Buena')\n",
        "]\n",
        "schema = StructType([\n",
        "    StructField(\"PM10\", DoubleType(), True),\n",
        "    StructField(\"NO2\", DoubleType(), True),\n",
        "    StructField(\"O3\", DoubleType(), True),\n",
        "    StructField(\"Categoria\", StringType(), True)\n",
        "])\n",
        "df = spark.createDataFrame(data, schema)\n",
        "df.show()"
      ]
    },
    {
      "cell_type": "markdown",
      "metadata": {
        "id": "KjEJboUguw0I"
      },
      "source": [
        "## Modelo de Regresión: predecir O3 con base en PM10 y NO2"
      ]
    },
    {
      "cell_type": "code",
      "execution_count": 7,
      "metadata": {
        "colab": {
          "base_uri": "https://localhost:8080/"
        },
        "id": "3Tum6xmsuw0I",
        "outputId": "191015db-21ec-47aa-819a-d368cfb80cc1"
      },
      "outputs": [
        {
          "output_type": "stream",
          "name": "stdout",
          "text": [
            "+-----------+----+------------------+\n",
            "|   features|  O3|        prediction|\n",
            "+-----------+----+------------------+\n",
            "|[30.5,22.0]|40.3| 41.48194371304527|\n",
            "|[55.1,28.3]|60.2|61.863393974332745|\n",
            "|[70.2,35.1]|80.5|  79.2591258854577|\n",
            "|[25.3,18.4]|35.0|  33.3955364271643|\n",
            "+-----------+----+------------------+\n",
            "\n"
          ]
        }
      ],
      "source": [
        "features = VectorAssembler(inputCols=[\"PM10\", \"NO2\"], outputCol=\"features\")\n",
        "lr = LinearRegression(featuresCol=\"features\", labelCol=\"O3\")\n",
        "pipeline = Pipeline(stages=[features, lr])\n",
        "model = pipeline.fit(df)\n",
        "predictions = model.transform(df)\n",
        "predictions.select(\"features\", \"O3\", \"prediction\").show()"
      ]
    },
    {
      "cell_type": "markdown",
      "metadata": {
        "id": "DJCR_iUZuw0J"
      },
      "source": [
        "### Interpretación de la salida de la regresión\n",
        "La tabla mostrada por `predictions.select(\"features\", \"O3\", \"prediction\").show()` contiene tres columnas:\n",
        "- **features**: el vector de entrada compuesto por los valores de PM10 y NO2.\n",
        "- **O3**: el valor real de la concentración de ozono troposférico.\n",
        "- **prediction**: el valor estimado por el modelo de regresión lineal.\n",
        "\n",
        "Al comparar las columnas `O3` y `prediction`, se puede evaluar cuán cercano está el modelo de los valores reales. Para mejorar la precisión, se pueden ajustar los hiperparámetros, aplicar transformaciones o incluir nuevas variables predictoras."
      ]
    },
    {
      "cell_type": "markdown",
      "metadata": {
        "id": "zDigAl3Wuw0J"
      },
      "source": [
        "## Modelo de Clasificación: predecir la categoría de calidad del aire"
      ]
    },
    {
      "cell_type": "code",
      "execution_count": null,
      "metadata": {
        "id": "-PJQO_cJuw0J"
      },
      "outputs": [],
      "source": [
        "indexer = StringIndexer(inputCol=\"Categoria\", outputCol=\"label\")\n",
        "lr_class = LogisticRegression(featuresCol=\"features\", labelCol=\"label\", maxIter=10)\n",
        "pipeline_class = Pipeline(stages=[features, indexer, lr_class])\n",
        "model_class = pipeline_class.fit(df)\n",
        "predictions_class = model_class.transform(df)\n",
        "predictions_class.select(\"features\", \"Categoria\", \"prediction\").show()"
      ]
    },
    {
      "cell_type": "markdown",
      "metadata": {
        "id": "xqNktKFPuw0J"
      },
      "source": [
        "## Reflexión final\n",
        "Este ejercicio ha permitido implementar modelos analíticos sobre un conjunto de datos simulado en PySpark. El estudiante puede replicar esta experiencia utilizando un conjunto de datos real, como los disponibles en la plataforma [datos.gov.co](https://www.datos.gov.co/), para vincular el análisis con situaciones reales del contexto colombiano.\n",
        "\n",
        "Se recomienda repetir el flujo de trabajo modificando los parámetros del modelo, aplicando nuevas transformaciones y evaluando con diferentes métricas para comprender mejor el impacto de cada ajuste en el desempeño del modelo."
      ]
    },
    {
      "cell_type": "markdown",
      "metadata": {
        "id": "YL6EfOXvuw0J"
      },
      "source": [
        "### Interpretación de la salida de la clasificación\n",
        "La salida `predictions_class.select(\"features\", \"Categoria\", \"prediction\").show()` muestra:\n",
        "- **features**: vector de entrada compuesto por PM10 y NO2.\n",
        "- **Categoria**: la clase original de la calidad del aire.\n",
        "- **prediction**: la categoría predicha por el modelo (como índice numérico).\n",
        "\n",
        "El modelo de clasificación convierte primero las categorías en números (por ejemplo, Buena = 0.0, Moderada = 1.0, Dañina = 2.0). Luego, entrena un modelo de regresión logística multinomial para predecir la clase más probable. Esta técnica es útil para automatizar alertas de calidad del aire o alimentar tableros de control en tiempo real."
      ]
    }
  ],
  "metadata": {
    "kernelspec": {
      "display_name": "Python 3",
      "language": "python",
      "name": "python3"
    },
    "language_info": {
      "name": "python",
      "version": "3.x"
    },
    "colab": {
      "provenance": [],
      "include_colab_link": true
    }
  },
  "nbformat": 4,
  "nbformat_minor": 0
}