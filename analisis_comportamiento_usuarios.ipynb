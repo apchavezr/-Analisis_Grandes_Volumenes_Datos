{
  "cells": [
    {
      "cell_type": "markdown",
      "metadata": {
        "id": "view-in-github",
        "colab_type": "text"
      },
      "source": [
        "<a href=\"https://colab.research.google.com/github/apchavezr/-Analisis_Grandes_Volumenes_Datos/blob/main/analisis_comportamiento_usuarios.ipynb\" target=\"_parent\"><img src=\"https://colab.research.google.com/assets/colab-badge.svg\" alt=\"Open In Colab\"/></a>"
      ]
    },
    {
      "cell_type": "markdown",
      "id": "0e1d573b",
      "metadata": {
        "id": "0e1d573b"
      },
      "source": [
        "# Análisis de Comportamiento de Usuarios con PySpark\n",
        "Este notebook está diseñado para guiar paso a paso a los estudiantes en el análisis de comportamiento de usuarios en un entorno de comercio electrónico. Se utiliza un dataset público, se aplican transformaciones, se construyen perfiles de usuario y se realiza un clustering para identificar grupos de comportamiento.\n",
        "\n",
        "## Objetivos\n",
        "- Cargar y explorar un dataset de eventos de navegación.\n",
        "- Transformar los datos y preparar características relevantes.\n",
        "- Aplicar clustering para identificar tipos de usuarios.\n",
        "- Analizar resultados y extraer conclusiones."
      ]
    },
    {
      "cell_type": "markdown",
      "id": "55453c40",
      "metadata": {
        "id": "55453c40"
      },
      "source": [
        "## Paso 1: Importación de librerías necesarias"
      ]
    },
    {
      "cell_type": "code",
      "execution_count": 1,
      "id": "230bfb2a",
      "metadata": {
        "id": "230bfb2a"
      },
      "outputs": [],
      "source": [
        "from pyspark.sql import SparkSession\n",
        "from pyspark.sql.functions import col, when, count, avg\n",
        "from pyspark.ml.feature import VectorAssembler, StringIndexer\n",
        "from pyspark.ml.clustering import KMeans\n",
        "import matplotlib.pyplot as plt"
      ]
    },
    {
      "cell_type": "markdown",
      "id": "555addb7",
      "metadata": {
        "id": "555addb7"
      },
      "source": [
        "**Explicación**: Se importan las librerías necesarias para manipulación de datos con PySpark, funciones SQL, herramientas de machine learning (clustering con KMeans) y visualización con matplotlib."
      ]
    },
    {
      "cell_type": "markdown",
      "id": "50c53de4",
      "metadata": {
        "id": "50c53de4"
      },
      "source": [
        "## Paso 2: Inicializar SparkSession"
      ]
    },
    {
      "cell_type": "code",
      "execution_count": 2,
      "id": "cf849fa1",
      "metadata": {
        "id": "cf849fa1"
      },
      "outputs": [],
      "source": [
        "spark = SparkSession.builder \\\n",
        "    .appName(\"UserBehaviorAnalysis\") \\\n",
        "    .getOrCreate()"
      ]
    },
    {
      "cell_type": "markdown",
      "id": "08ad6d8d",
      "metadata": {
        "id": "08ad6d8d"
      },
      "source": [
        "**Explicación**: Se inicia una sesión de Spark, que es necesaria para ejecutar cualquier operación con PySpark. Esta sesión permite crear y manipular DataFrames distribuidos."
      ]
    },
    {
      "cell_type": "markdown",
      "id": "921d2fc6",
      "metadata": {
        "id": "921d2fc6"
      },
      "source": [
        "## Paso 3: Cargar dataset\n",
        "Se utiliza un subconjunto simulado del dataset de eventos de navegación. Si se tiene el dataset de Kaggle, se puede adaptar esta parte para leer desde CSV."
      ]
    },
    {
      "cell_type": "code",
      "execution_count": 3,
      "id": "2fd8c9c9",
      "metadata": {
        "colab": {
          "base_uri": "https://localhost:8080/"
        },
        "id": "2fd8c9c9",
        "outputId": "872cd5ac-cf89-4be4-ffdf-7f0fae3a6398"
      },
      "outputs": [
        {
          "output_type": "stream",
          "name": "stdout",
          "text": [
            "+-------+----------+-----------+\n",
            "|user_id|event_type|event_count|\n",
            "+-------+----------+-----------+\n",
            "|      1|      view|         10|\n",
            "|      1|      cart|          0|\n",
            "|      2|      view|          5|\n",
            "|      2|  purchase|          1|\n",
            "|      3|      view|          7|\n",
            "|      3|      view|          2|\n",
            "|      3|      cart|          1|\n",
            "|      4|      view|          1|\n",
            "|      4|      cart|          1|\n",
            "|      4|  purchase|          1|\n",
            "|      5|      view|         12|\n",
            "|      5|      cart|          0|\n",
            "+-------+----------+-----------+\n",
            "\n"
          ]
        }
      ],
      "source": [
        "# Crear un dataframe simulado\n",
        "data = [\n",
        "    (1, 'view', 10), (1, 'cart', 0), (2, 'view', 5), (2, 'purchase', 1),\n",
        "    (3, 'view', 7), (3, 'view', 2), (3, 'cart', 1), (4, 'view', 1),\n",
        "    (4, 'cart', 1), (4, 'purchase', 1), (5, 'view', 12), (5, 'cart', 0)\n",
        "]\n",
        "columns = ['user_id', 'event_type', 'event_count']\n",
        "df = spark.createDataFrame(data, columns)\n",
        "df.show()"
      ]
    },
    {
      "cell_type": "markdown",
      "id": "eb0b1246",
      "metadata": {
        "id": "eb0b1246"
      },
      "source": [
        "**Explicación**: Se crea un DataFrame simulado con datos de eventos de navegación de varios usuarios. Cada fila representa un evento con un tipo (vista, carrito, compra) y una cantidad asociada. Este conjunto simula un flujo real de interacciones de usuarios en una plataforma."
      ]
    },
    {
      "cell_type": "markdown",
      "id": "225047c3",
      "metadata": {
        "id": "225047c3"
      },
      "source": [
        "## Paso 4: Pivotar datos para análisis por usuario"
      ]
    },
    {
      "cell_type": "code",
      "execution_count": 4,
      "id": "77198baf",
      "metadata": {
        "colab": {
          "base_uri": "https://localhost:8080/"
        },
        "id": "77198baf",
        "outputId": "b5fe2187-90ef-4da7-b25b-65411a0cad12"
      },
      "outputs": [
        {
          "output_type": "stream",
          "name": "stdout",
          "text": [
            "+-------+----+--------+----+\n",
            "|user_id|cart|purchase|view|\n",
            "+-------+----+--------+----+\n",
            "|      5|   0|       0|  12|\n",
            "|      1|   0|       0|  10|\n",
            "|      3|   1|       0|   9|\n",
            "|      2|   0|       1|   5|\n",
            "|      4|   1|       1|   1|\n",
            "+-------+----+--------+----+\n",
            "\n"
          ]
        }
      ],
      "source": [
        "pivot_df = df.groupBy(\"user_id\").pivot(\"event_type\").sum(\"event_count\").na.fill(0)\n",
        "pivot_df.show()"
      ]
    },
    {
      "cell_type": "markdown",
      "id": "d1012326",
      "metadata": {
        "id": "d1012326"
      },
      "source": [
        "**Explicación**: Se realiza una transformación tipo `pivot` para convertir los eventos en columnas y así tener una fila por usuario con sus respectivos conteos de cada tipo de evento. Esto facilita el análisis comparativo entre usuarios."
      ]
    },
    {
      "cell_type": "markdown",
      "id": "b06dc9e3",
      "metadata": {
        "id": "b06dc9e3"
      },
      "source": [
        "## Paso 5: Preparar datos para clustering con KMeans"
      ]
    },
    {
      "cell_type": "code",
      "execution_count": 6,
      "id": "15ccfe2c",
      "metadata": {
        "colab": {
          "base_uri": "https://localhost:8080/"
        },
        "id": "15ccfe2c",
        "outputId": "8c9c5307-f88e-45be-dcef-6ded855bfd1d"
      },
      "outputs": [
        {
          "output_type": "stream",
          "name": "stdout",
          "text": [
            "+-------+--------------+\n",
            "|user_id|features      |\n",
            "+-------+--------------+\n",
            "|5      |[12.0,0.0,0.0]|\n",
            "|1      |[10.0,0.0,0.0]|\n",
            "|3      |[9.0,1.0,0.0] |\n",
            "|2      |[5.0,0.0,1.0] |\n",
            "|4      |[1.0,1.0,1.0] |\n",
            "+-------+--------------+\n",
            "\n"
          ]
        }
      ],
      "source": [
        "assembler = VectorAssembler(inputCols=[\"view\", \"cart\", \"purchase\"], outputCol=\"features\")\n",
        "dataset = assembler.transform(pivot_df)\n",
        "dataset.select(\"user_id\", \"features\").show(truncate=False)"
      ]
    },
    {
      "cell_type": "markdown",
      "id": "798a8a57",
      "metadata": {
        "id": "798a8a57"
      },
      "source": [
        "**Explicación**: Se utiliza `VectorAssembler` para combinar las columnas `view`, `cart` y `purchase` en un único vector de características, que es el formato requerido para aplicar algoritmos de machine learning en PySpark."
      ]
    },
    {
      "cell_type": "markdown",
      "id": "225a883f",
      "metadata": {
        "id": "225a883f"
      },
      "source": [
        "## Paso 6: Aplicar clustering con KMeans"
      ]
    },
    {
      "cell_type": "code",
      "execution_count": 7,
      "id": "50eaa667",
      "metadata": {
        "colab": {
          "base_uri": "https://localhost:8080/"
        },
        "id": "50eaa667",
        "outputId": "a53118af-a41e-4d49-ac80-e06634352fa9"
      },
      "outputs": [
        {
          "output_type": "stream",
          "name": "stdout",
          "text": [
            "+-------+----+----+--------+----------+\n",
            "|user_id|view|cart|purchase|prediction|\n",
            "+-------+----+----+--------+----------+\n",
            "|      5|  12|   0|       0|         0|\n",
            "|      1|  10|   0|       0|         0|\n",
            "|      3|   9|   1|       0|         0|\n",
            "|      2|   5|   0|       1|         1|\n",
            "|      4|   1|   1|       1|         1|\n",
            "+-------+----+----+--------+----------+\n",
            "\n"
          ]
        }
      ],
      "source": [
        "kmeans = KMeans(k=2, seed=1)\n",
        "modelo = kmeans.fit(dataset)\n",
        "resultados = modelo.transform(dataset)\n",
        "resultados.select(\"user_id\", \"view\", \"cart\", \"purchase\", \"prediction\").show()"
      ]
    },
    {
      "cell_type": "markdown",
      "id": "230a8b93",
      "metadata": {
        "id": "230a8b93"
      },
      "source": [
        "**Explicación**: Se entrena un modelo KMeans con 2 clústeres sobre los vectores de características generados. Luego se aplica el modelo al dataset para predecir a qué grupo pertenece cada usuario. Esta agrupación ayuda a identificar diferentes patrones de comportamiento."
      ]
    },
    {
      "cell_type": "markdown",
      "id": "b5e92c35",
      "metadata": {
        "id": "b5e92c35"
      },
      "source": [
        "## Paso 7: Interpretación de resultados"
      ]
    },
    {
      "cell_type": "code",
      "execution_count": 8,
      "id": "44039a3a",
      "metadata": {
        "colab": {
          "base_uri": "https://localhost:8080/"
        },
        "id": "44039a3a",
        "outputId": "000016de-ec69-40f1-c27a-6173e7e0e614"
      },
      "outputs": [
        {
          "output_type": "stream",
          "name": "stdout",
          "text": [
            "+----------+------------------+------------------+------------+\n",
            "|prediction|         avg_views|          avg_cart|avg_purchase|\n",
            "+----------+------------------+------------------+------------+\n",
            "|         1|               3.0|               0.5|         1.0|\n",
            "|         0|10.333333333333334|0.3333333333333333|         0.0|\n",
            "+----------+------------------+------------------+------------+\n",
            "\n"
          ]
        }
      ],
      "source": [
        "agrupados = resultados.groupBy(\"prediction\").agg(\n",
        "    avg(\"view\").alias(\"avg_views\"),\n",
        "    avg(\"cart\").alias(\"avg_cart\"),\n",
        "    avg(\"purchase\").alias(\"avg_purchase\")\n",
        ")\n",
        "agrupados.show()"
      ]
    },
    {
      "cell_type": "markdown",
      "id": "b03cb9bc",
      "metadata": {
        "id": "b03cb9bc"
      },
      "source": [
        "**Explicación**: Se calculan los promedios de eventos por tipo en cada clúster generado por KMeans. Esto permite interpretar el significado de cada grupo, por ejemplo, usuarios que solo visualizan versus usuarios que también agregan al carrito y compran."
      ]
    },
    {
      "cell_type": "markdown",
      "id": "1858c42a",
      "metadata": {
        "id": "1858c42a"
      },
      "source": [
        "## Conclusiones\n",
        "- Se identificaron diferentes grupos de usuarios basados en sus patrones de navegación.\n",
        "- El modelo KMeans permite identificar grupos como compradores activos y visitantes pasivos.\n",
        "- Este análisis puede ser usado para diseñar campañas de marketing personalizadas o detectar posibles abandonos de carrito."
      ]
    }
  ],
  "metadata": {
    "colab": {
      "provenance": [],
      "include_colab_link": true
    },
    "language_info": {
      "name": "python"
    },
    "kernelspec": {
      "name": "python3",
      "display_name": "Python 3"
    }
  },
  "nbformat": 4,
  "nbformat_minor": 5
}