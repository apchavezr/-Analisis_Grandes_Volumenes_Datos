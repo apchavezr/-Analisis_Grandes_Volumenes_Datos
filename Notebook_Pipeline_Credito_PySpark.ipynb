{
  "cells": [
    {
      "cell_type": "markdown",
      "metadata": {
        "id": "view-in-github",
        "colab_type": "text"
      },
      "source": [
        "<a href=\"https://colab.research.google.com/github/apchavezr/-Analisis_Grandes_Volumenes_Datos/blob/main/Notebook_Pipeline_Credito_PySpark.ipynb\" target=\"_parent\"><img src=\"https://colab.research.google.com/assets/colab-badge.svg\" alt=\"Open In Colab\"/></a>"
      ]
    },
    {
      "cell_type": "markdown",
      "metadata": {
        "id": "Fby6O09q4N39"
      },
      "source": [
        "# Predicción de Riesgo Crediticio con PySpark y Spark ML\n",
        "\n",
        "Este cuaderno muestra cómo construir un pipeline de machine learning escalable utilizando PySpark para predecir el riesgo de incumplimiento de crédito. Se utilizará un conjunto de datos abierto disponible en Kaggle, modificado para permitir descarga directa.\n",
        "\n",
        "El pipeline incluye:\n",
        "- Transformación de variables categóricas (`StringIndexer`)\n",
        "- Combinación de características (`VectorAssembler`)\n",
        "- Escalado de variables (`StandardScaler`)\n",
        "- Entrenamiento de un modelo de regresión logística (`LogisticRegression`)\n",
        "- Evaluación con AUC (`BinaryClassificationEvaluator`)"
      ]
    },
    {
      "cell_type": "code",
      "metadata": {
        "colab": {
          "base_uri": "https://localhost:8080/"
        },
        "id": "opJbYxnQ4N3_",
        "outputId": "035d20c3-76f5-4700-9406-3130bb307ca9"
      },
      "execution_count": 1,
      "outputs": [
        {
          "output_type": "stream",
          "name": "stdout",
          "text": [
            "Requirement already satisfied: pyspark in /usr/local/lib/python3.11/dist-packages (3.5.5)\n",
            "Requirement already satisfied: py4j==0.10.9.7 in /usr/local/lib/python3.11/dist-packages (from pyspark) (0.10.9.7)\n"
          ]
        }
      ],
      "source": [
        "# Instalar PySpark si está usando Google Colab\n",
        "!pip install pyspark"
      ]
    },
    {
      "cell_type": "code",
      "metadata": {
        "id": "Exj1wxZl4N4A"
      },
      "execution_count": null,
      "outputs": [],
      "source": [
        "# Importación de librerías\n",
        "from pyspark.sql import SparkSession\n",
        "from pyspark.ml.feature import StringIndexer, VectorAssembler, StandardScaler\n",
        "from pyspark.ml.classification import LogisticRegression\n",
        "from pyspark.ml import Pipeline\n",
        "from pyspark.ml.evaluation import BinaryClassificationEvaluator"
      ]
    },
    {
      "cell_type": "code",
      "metadata": {
        "id": "dTgmzHyn4N4A"
      },
      "execution_count": null,
      "outputs": [],
      "source": [
        "# Crear sesión de Spark\n",
        "spark = SparkSession.builder.appName(\"RiesgoCrediticio\").getOrCreate()"
      ]
    },
    {
      "cell_type": "markdown",
      "metadata": {
        "id": "HkL-EWwK4N4A"
      },
      "source": [
        "### Cargar los datos de riesgo crediticio\n",
        "Los datos utilizados provienen de una versión simplificada del dataset de default credit clients.\n",
        "Fuente: [https://www.kaggle.com/datasets/uciml/default-of-credit-card-clients-dataset](https://www.kaggle.com/datasets/uciml/default-of-credit-card-clients-dataset)\n",
        "\n",
        "Para propósitos demostrativos, se usa una URL pública alternativa con descarga directa (simulación):"
      ]
    },
    {
      "cell_type": "code",
      "metadata": {
        "id": "tdCnBNlm4N4B"
      },
      "execution_count": null,
      "outputs": [],
      "source": [
        "url = \"https://raw.githubusercontent.com/plotly/datasets/master/default-of-credit-card-clients.csv\"\n",
        "df_raw = spark.read.csv(url, header=True, inferSchema=True)\n",
        "df_raw = df_raw.withColumnRenamed(\"default payment next month\", \"label\")\n",
        "df_raw.select(\"LIMIT_BAL\", \"AGE\", \"EDUCATION\", \"MARRIAGE\", \"SEX\", \"label\").show(5)"
      ]
    },
    {
      "cell_type": "markdown",
      "metadata": {
        "id": "tYmuKDsP4N4B"
      },
      "source": [
        "### Preparar el pipeline de análisis\n",
        "Convertimos variables categóricas y numéricas, las ensamblamos y escalamos para entrenar el modelo."
      ]
    },
    {
      "cell_type": "code",
      "metadata": {
        "id": "RvSBoS1s4N4B"
      },
      "execution_count": null,
      "outputs": [],
      "source": [
        "indexers = [\n",
        "    StringIndexer(inputCol=col, outputCol=col+\"_index\")\n",
        "    for col in [\"EDUCATION\", \"MARRIAGE\", \"SEX\"]\n",
        "]\n",
        "assembler = VectorAssembler(\n",
        "    inputCols=[\"LIMIT_BAL\", \"AGE\"] + [col+\"_index\" for col in [\"EDUCATION\", \"MARRIAGE\", \"SEX\"]],\n",
        "    outputCol=\"features_raw\")\n",
        "scaler = StandardScaler(inputCol=\"features_raw\", outputCol=\"features\")\n",
        "lr = LogisticRegression(featuresCol=\"features\", labelCol=\"label\")\n",
        "pipeline = Pipeline(stages=indexers + [assembler, scaler, lr])"
      ]
    },
    {
      "cell_type": "code",
      "metadata": {
        "id": "Kdc-UNJm4N4C"
      },
      "execution_count": null,
      "outputs": [],
      "source": [
        "# Entrenar el modelo\n",
        "model = pipeline.fit(df_raw)\n",
        "predictions = model.transform(df_raw)\n",
        "predictions.select(\"label\", \"prediction\", \"probability\").show(5)"
      ]
    },
    {
      "cell_type": "markdown",
      "metadata": {
        "id": "7cFifgtQ4N4C"
      },
      "source": [
        "### Evaluar el modelo\n",
        "Utilizamos el área bajo la curva ROC como métrica de evaluación."
      ]
    },
    {
      "cell_type": "code",
      "metadata": {
        "id": "BzY7IqJz4N4C"
      },
      "execution_count": null,
      "outputs": [],
      "source": [
        "evaluator = BinaryClassificationEvaluator()\n",
        "auc = evaluator.evaluate(predictions)\n",
        "print(f\"Área bajo la curva (AUC): {auc:.4f}\")"
      ]
    }
  ],
  "metadata": {
    "kernelspec": {
      "display_name": "Python 3",
      "language": "python",
      "name": "python3"
    },
    "language_info": {
      "name": "python",
      "version": "3.x"
    },
    "colab": {
      "provenance": [],
      "include_colab_link": true
    }
  },
  "nbformat": 4,
  "nbformat_minor": 0
}