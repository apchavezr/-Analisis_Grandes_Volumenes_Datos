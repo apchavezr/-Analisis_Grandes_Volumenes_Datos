{
  "cells": [
    {
      "cell_type": "markdown",
      "metadata": {
        "id": "view-in-github",
        "colab_type": "text"
      },
      "source": [
        "<a href=\"https://colab.research.google.com/github/apchavezr/-Analisis_Grandes_Volumenes_Datos/blob/main/Notebook_Clustering_KMeans_PySpark_Con_Conclusiones.ipynb\" target=\"_parent\"><img src=\"https://colab.research.google.com/assets/colab-badge.svg\" alt=\"Open In Colab\"/></a>"
      ]
    },
    {
      "cell_type": "markdown",
      "metadata": {
        "id": "Pa1dRqVTrXrW"
      },
      "source": [
        "# Clustering con K-Means en PySpark\n",
        "\n",
        "Este notebook demuestra cómo aplicar el algoritmo K-Means utilizando PySpark MLlib con datos sintéticos. Incluye generación de datos, entrenamiento del modelo, evaluación y visualización."
      ]
    },
    {
      "cell_type": "code",
      "execution_count": null,
      "metadata": {
        "id": "gH14B8gGrXrZ"
      },
      "outputs": [],
      "source": [
        "# 1. Inicialización de PySpark\n",
        "from pyspark.sql import SparkSession\n",
        "\n",
        "spark = SparkSession.builder \\\n",
        "    .appName(\"KMeansExample\") \\\n",
        "    .getOrCreate()"
      ]
    },
    {
      "cell_type": "code",
      "execution_count": null,
      "metadata": {
        "id": "02cbi976rXra"
      },
      "outputs": [],
      "source": [
        "# 2. Generar datos sintéticos (usando sklearn)\n",
        "from sklearn.datasets import make_blobs\n",
        "import pandas as pd\n",
        "\n",
        "features, _ = make_blobs(n_samples=300, centers=3, cluster_std=1.0, random_state=42)\n",
        "df_pd = pd.DataFrame(features, columns=[\"x\", \"y\"])\n",
        "df_pd.head()"
      ]
    },
    {
      "cell_type": "code",
      "execution_count": null,
      "metadata": {
        "id": "tF0WaRTXrXrb"
      },
      "outputs": [],
      "source": [
        "# 3. Convertir a Spark DataFrame\n",
        "df_spark = spark.createDataFrame(df_pd)\n",
        "df_spark.show(5)"
      ]
    },
    {
      "cell_type": "code",
      "execution_count": null,
      "metadata": {
        "id": "z7LZA4YzrXrb"
      },
      "outputs": [],
      "source": [
        "# 4. VectorAssembler para transformar columnas en vector de características\n",
        "from pyspark.ml.feature import VectorAssembler\n",
        "\n",
        "vec_assembler = VectorAssembler(inputCols=[\"x\", \"y\"], outputCol=\"features\")\n",
        "df_features = vec_assembler.transform(df_spark)\n",
        "df_features.select(\"features\").show(5, truncate=False)"
      ]
    },
    {
      "cell_type": "code",
      "execution_count": null,
      "metadata": {
        "id": "O88HVfWCrXrc"
      },
      "outputs": [],
      "source": [
        "# 5. Aplicar KMeans\n",
        "from pyspark.ml.clustering import KMeans\n",
        "\n",
        "kmeans = KMeans(k=3, seed=1, featuresCol=\"features\")\n",
        "model = kmeans.fit(df_features)\n",
        "predictions = model.transform(df_features)\n",
        "predictions.select(\"x\", \"y\", \"prediction\").show(10)"
      ]
    },
    {
      "cell_type": "code",
      "execution_count": null,
      "metadata": {
        "id": "TNz_X0NXrXrc"
      },
      "outputs": [],
      "source": [
        "# 6. Evaluar WCSS (Within Set Sum of Squared Errors)\n",
        "wcss = model.summary.trainingCost\n",
        "print(f\"WCSS (Suma de errores al cuadrado): {wcss:.2f}\")"
      ]
    },
    {
      "cell_type": "code",
      "execution_count": null,
      "metadata": {
        "id": "cxgLtSmorXrc"
      },
      "outputs": [],
      "source": [
        "# 7. Visualización de los clusters\n",
        "import matplotlib.pyplot as plt\n",
        "\n",
        "pdf = predictions.select(\"x\", \"y\", \"prediction\").toPandas()\n",
        "plt.figure(figsize=(8, 6))\n",
        "for cluster in sorted(pdf['prediction'].unique()):\n",
        "    subset = pdf[pdf['prediction'] == cluster]\n",
        "    plt.scatter(subset['x'], subset['y'], label=f\"Cluster {cluster}\")\n",
        "plt.title(\"Clustering con K-Means en PySpark\")\n",
        "plt.xlabel(\"x\")\n",
        "plt.ylabel(\"y\")\n",
        "plt.legend()\n",
        "plt.grid(True)\n",
        "plt.show()"
      ]
    },
    {
      "cell_type": "markdown",
      "metadata": {
        "id": "QOvIn39DrXrd"
      },
      "source": [
        "## 📌 Conclusiones\n",
        "\n",
        "- El algoritmo K-Means puede implementarse de forma eficiente con PySpark, aprovechando su arquitectura distribuida.\n",
        "- La visualización mostró que los puntos se agrupan correctamente en tres clusters, lo que valida la precisión del modelo en este conjunto de datos sintético.\n",
        "- La métrica WCSS permite evaluar la compacidad de los clusters y se puede usar para comparar configuraciones con diferentes valores de k.\n",
        "- Este ejercicio ilustra claramente la utilidad de Spark MLlib para tareas de clustering en escenarios reales de gran escala, donde la eficiencia del procesamiento es clave.\n",
        "- La integración de PySpark con herramientas de visualización permite enriquecer el análisis y mejorar la comprensión de los resultados por parte de los analistas de datos."
      ]
    }
  ],
  "metadata": {
    "kernelspec": {
      "display_name": "Python 3",
      "language": "python",
      "name": "python3"
    },
    "language_info": {
      "name": "python",
      "version": "3.9"
    },
    "colab": {
      "provenance": [],
      "include_colab_link": true
    }
  },
  "nbformat": 4,
  "nbformat_minor": 0
}