{
  "cells": [
    {
      "cell_type": "markdown",
      "metadata": {
        "id": "view-in-github",
        "colab_type": "text"
      },
      "source": [
        "<a href=\"https://colab.research.google.com/github/apchavezr/-Analisis_Grandes_Volumenes_Datos/blob/main/actividad_spark_memoria.ipynb\" target=\"_parent\"><img src=\"https://colab.research.google.com/assets/colab-badge.svg\" alt=\"Open In Colab\"/></a>"
      ]
    },
    {
      "cell_type": "markdown",
      "id": "aa9e8719",
      "metadata": {
        "id": "aa9e8719"
      },
      "source": [
        "# 🔬 Actividad práctica: Introducción a Apache Spark y procesamiento en memoria"
      ]
    },
    {
      "cell_type": "markdown",
      "id": "8ea23d48",
      "metadata": {
        "id": "8ea23d48"
      },
      "source": [
        "\n",
        "## Objetivo\n",
        "\n",
        "Aplicar operaciones básicas utilizando PySpark para comprender el modelo de programación distribuida en memoria, comparando sus ventajas frente al enfoque tradicional basado en disco.\n",
        "\n",
        "---"
      ]
    },
    {
      "cell_type": "markdown",
      "id": "245c5840",
      "metadata": {
        "id": "245c5840"
      },
      "source": [
        "### ✅ Requisitos previos\n",
        "Ejecutar en consola:\n",
        "```bash\n",
        "pip install pyspark findspark jupyterlab\n",
        "```"
      ]
    },
    {
      "cell_type": "code",
      "source": [
        "pip install pyspark findspark jupyterlab"
      ],
      "metadata": {
        "id": "GVplAUPryhb5"
      },
      "id": "GVplAUPryhb5",
      "execution_count": null,
      "outputs": []
    },
    {
      "cell_type": "code",
      "execution_count": 2,
      "id": "bcd0f934",
      "metadata": {
        "colab": {
          "base_uri": "https://localhost:8080/",
          "height": 219
        },
        "id": "bcd0f934",
        "outputId": "3b225db2-44d1-4034-c1c6-07867fc969c0"
      },
      "outputs": [
        {
          "output_type": "execute_result",
          "data": {
            "text/plain": [
              "<pyspark.sql.session.SparkSession at 0x7c4c92c591d0>"
            ],
            "text/html": [
              "\n",
              "            <div>\n",
              "                <p><b>SparkSession - in-memory</b></p>\n",
              "                \n",
              "        <div>\n",
              "            <p><b>SparkContext</b></p>\n",
              "\n",
              "            <p><a href=\"http://8a2d6d71265e:4040\">Spark UI</a></p>\n",
              "\n",
              "            <dl>\n",
              "              <dt>Version</dt>\n",
              "                <dd><code>v3.5.5</code></dd>\n",
              "              <dt>Master</dt>\n",
              "                <dd><code>local[*]</code></dd>\n",
              "              <dt>AppName</dt>\n",
              "                <dd><code>ActividadSparkRDDyDataFrame</code></dd>\n",
              "            </dl>\n",
              "        </div>\n",
              "        \n",
              "            </div>\n",
              "        "
            ]
          },
          "metadata": {},
          "execution_count": 2
        }
      ],
      "source": [
        "import findspark\n",
        "findspark.init()\n",
        "\n",
        "from pyspark.sql import SparkSession\n",
        "\n",
        "spark = SparkSession.builder \\\n",
        "    .appName(\"ActividadSparkRDDyDataFrame\") \\\n",
        "    .master(\"local[*]\") \\\n",
        "    .getOrCreate()\n",
        "\n",
        "spark"
      ]
    },
    {
      "cell_type": "markdown",
      "id": "e97fb4d1",
      "metadata": {
        "id": "e97fb4d1"
      },
      "source": [
        "### 🔹 Paso 1: Crear un RDD desde una lista de Python"
      ]
    },
    {
      "cell_type": "code",
      "execution_count": 3,
      "id": "4490715d",
      "metadata": {
        "colab": {
          "base_uri": "https://localhost:8080/"
        },
        "id": "4490715d",
        "outputId": "50655d6c-b563-4aa9-9b64-e5d1c48d9264"
      },
      "outputs": [
        {
          "output_type": "execute_result",
          "data": {
            "text/plain": [
              "[('dato1', 1), ('dato2', 1), ('dato3', 1), ('dato4', 1), ('dato5', 1)]"
            ]
          },
          "metadata": {},
          "execution_count": 3
        }
      ],
      "source": [
        "rdd = spark.sparkContext.parallelize([\"dato1\", \"dato2\", \"dato3\", \"dato4\", \"dato5\"])\n",
        "rdd.map(lambda x: (x, 1)).collect()"
      ]
    },
    {
      "cell_type": "markdown",
      "id": "cdd104c7",
      "metadata": {
        "id": "cdd104c7"
      },
      "source": [
        "### 🔹 Paso 2: Crear un DataFrame con datos estructurados y aplicar transformaciones"
      ]
    },
    {
      "cell_type": "code",
      "execution_count": 4,
      "id": "94a0ef88",
      "metadata": {
        "colab": {
          "base_uri": "https://localhost:8080/"
        },
        "id": "94a0ef88",
        "outputId": "fa18fc92-f6cc-430e-a691-cc7c1ff98ddc"
      },
      "outputs": [
        {
          "output_type": "stream",
          "name": "stdout",
          "text": [
            "+------+----+------------+\n",
            "|nombre|edad|      ciudad|\n",
            "+------+----+------------+\n",
            "| Carla|  23|      Bogotá|\n",
            "|  Luis|  35|        Cali|\n",
            "| Sofía|  29|    Medellín|\n",
            "|Julián|  41|Barranquilla|\n",
            "+------+----+------------+\n",
            "\n"
          ]
        }
      ],
      "source": [
        "from pyspark.sql import Row\n",
        "\n",
        "datos = [\n",
        "    Row(nombre=\"Carla\", edad=23, ciudad=\"Bogotá\"),\n",
        "    Row(nombre=\"Luis\", edad=35, ciudad=\"Cali\"),\n",
        "    Row(nombre=\"Sofía\", edad=29, ciudad=\"Medellín\"),\n",
        "    Row(nombre=\"Julián\", edad=41, ciudad=\"Barranquilla\"),\n",
        "]\n",
        "\n",
        "df = spark.createDataFrame(datos)\n",
        "df.show()"
      ]
    },
    {
      "cell_type": "markdown",
      "id": "7cd6753b",
      "metadata": {
        "id": "7cd6753b"
      },
      "source": [
        "### 🔹 Paso 3: Aplicar una transformación y una agregación"
      ]
    },
    {
      "cell_type": "code",
      "execution_count": 5,
      "id": "0a6b10fa",
      "metadata": {
        "colab": {
          "base_uri": "https://localhost:8080/"
        },
        "id": "0a6b10fa",
        "outputId": "e2e52bc4-3542-4787-dd6b-cec7a95c5a1d"
      },
      "outputs": [
        {
          "output_type": "stream",
          "name": "stdout",
          "text": [
            "+------+----+------------+\n",
            "|nombre|edad|      ciudad|\n",
            "+------+----+------------+\n",
            "|  Luis|  35|        Cali|\n",
            "|Julián|  41|Barranquilla|\n",
            "+------+----+------------+\n",
            "\n"
          ]
        }
      ],
      "source": [
        "# Filtrar personas mayores de 30 años\n",
        "df_mayores_30 = df.filter(df.edad > 30)\n",
        "df_mayores_30.show()"
      ]
    },
    {
      "cell_type": "code",
      "execution_count": 6,
      "id": "2a99fa62",
      "metadata": {
        "colab": {
          "base_uri": "https://localhost:8080/"
        },
        "id": "2a99fa62",
        "outputId": "9bbf9b31-1c9f-4666-e448-3f7fd3424fb6"
      },
      "outputs": [
        {
          "output_type": "stream",
          "name": "stdout",
          "text": [
            "+---------+\n",
            "|avg(edad)|\n",
            "+---------+\n",
            "|     32.0|\n",
            "+---------+\n",
            "\n"
          ]
        }
      ],
      "source": [
        "# Calcular edad promedio\n",
        "from pyspark.sql.functions import avg\n",
        "df.select(avg(\"edad\")).show()"
      ]
    },
    {
      "cell_type": "markdown",
      "id": "4480eec7",
      "metadata": {
        "id": "4480eec7"
      },
      "source": [
        "### 🔹 Paso 4: Guardar los resultados en disco"
      ]
    },
    {
      "cell_type": "code",
      "execution_count": 7,
      "id": "b2d3024c",
      "metadata": {
        "id": "b2d3024c"
      },
      "outputs": [],
      "source": [
        "df_mayores_30.write.csv(\"resultado_mayores_30.csv\", header=True)"
      ]
    },
    {
      "cell_type": "markdown",
      "id": "52ea1d18",
      "metadata": {
        "id": "52ea1d18"
      },
      "source": [
        "### 🧠 Pregunta de reflexión\n",
        "\n",
        "> ¿Qué impacto tiene mantener los datos en memoria en este tipo de operaciones? ¿Cómo afectaría si los datos intermedios se escribieran en disco?"
      ]
    },
    {
      "cell_type": "code",
      "execution_count": 8,
      "id": "47bc5c9d",
      "metadata": {
        "id": "47bc5c9d"
      },
      "outputs": [],
      "source": [
        "spark.stop()"
      ]
    }
  ],
  "metadata": {
    "colab": {
      "provenance": [],
      "include_colab_link": true
    },
    "language_info": {
      "name": "python"
    },
    "kernelspec": {
      "name": "python3",
      "display_name": "Python 3"
    }
  },
  "nbformat": 4,
  "nbformat_minor": 5
}