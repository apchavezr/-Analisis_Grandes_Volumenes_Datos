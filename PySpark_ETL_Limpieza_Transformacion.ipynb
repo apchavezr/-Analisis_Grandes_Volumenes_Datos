{
  "cells": [
    {
      "cell_type": "markdown",
      "metadata": {
        "id": "view-in-github",
        "colab_type": "text"
      },
      "source": [
        "<a href=\"https://colab.research.google.com/github/apchavezr/-Analisis_Grandes_Volumenes_Datos/blob/main/PySpark_ETL_Limpieza_Transformacion.ipynb\" target=\"_parent\"><img src=\"https://colab.research.google.com/assets/colab-badge.svg\" alt=\"Open In Colab\"/></a>"
      ]
    },
    {
      "cell_type": "markdown",
      "metadata": {
        "id": "_oefmmeKlFb-"
      },
      "source": [
        "# Práctica: Transformación y limpieza de datos con PySpark\n",
        "\n",
        "Este notebook guía al estudiante en la aplicación de funciones comunes de limpieza y transformación en PySpark, utilizando datos simulados. Se utilizarán técnicas como eliminación de duplicados, imputación de valores faltantes, conversión de tipos y normalización textual. Al final, se visualizan los resultados con `matplotlib`.\n"
      ]
    },
    {
      "cell_type": "code",
      "execution_count": 1,
      "metadata": {
        "id": "bYrOUT9UlFb_"
      },
      "outputs": [],
      "source": [
        "# Configuración del entorno de PySpark\n",
        "from pyspark.sql import SparkSession\n",
        "from pyspark.sql.functions import col, when, regexp_replace\n",
        "from pyspark.sql.types import StructType, StringType, IntegerType, TimestampType\n",
        "from datetime import datetime\n",
        "\n",
        "spark = SparkSession.builder \\\n",
        "    .appName(\"Limpieza_Datos_PySpark\") \\\n",
        "    .getOrCreate()"
      ]
    },
    {
      "cell_type": "markdown",
      "metadata": {
        "id": "q1Up1FtdlFcA"
      },
      "source": [
        "## Simulación de datos de sensores urbanos (con errores comunes)"
      ]
    },
    {
      "cell_type": "code",
      "execution_count": 2,
      "metadata": {
        "colab": {
          "base_uri": "https://localhost:8080/"
        },
        "id": "_2H2EfS-lFcA",
        "outputId": "476168bf-9ab7-4106-f564-871a8cb67a30"
      },
      "outputs": [
        {
          "output_type": "stream",
          "name": "stdout",
          "text": [
            "+---------+----+-----+--------------------------+\n",
            "|sensor_id|zona|valor|timestamp                 |\n",
            "+---------+----+-----+--------------------------+\n",
            "|s-001    |USQN|35   |2025-04-21 18:21:16.053048|\n",
            "|s-002    |CHPN|48   |2025-04-21 18:21:16.053051|\n",
            "|s-002    |CHPN|48   |2025-04-21 18:21:16.053051|\n",
            "|s-003    |TEUS|NULL |2025-04-21 18:21:16.053052|\n",
            "|s-004    |USQN|n/a  |2025-04-21 18:21:16.053052|\n",
            "+---------+----+-----+--------------------------+\n",
            "\n"
          ]
        }
      ],
      "source": [
        "# Esquema de los datos simulados\n",
        "schema = StructType() \\\n",
        "    .add(\"sensor_id\", StringType()) \\\n",
        "    .add(\"zona\", StringType()) \\\n",
        "    .add(\"valor\", StringType()) \\\n",
        "    .add(\"timestamp\", TimestampType())\n",
        "\n",
        "data = [\n",
        "    (\"s-001\", \"USQN\", \"35\", datetime.now()),\n",
        "    (\"s-002\", \"CHPN\", \"48\", datetime.now()),\n",
        "    (\"s-002\", \"CHPN\", \"48\", datetime.now()),  # duplicado\n",
        "    (\"s-003\", \"TEUS\", None, datetime.now()),    # valor faltante\n",
        "    (\"s-004\", \"USQN\", \"n/a\", datetime.now()),  # error de formato\n",
        "]\n",
        "\n",
        "df = spark.createDataFrame(data, schema=schema)\n",
        "df.show(truncate=False)"
      ]
    },
    {
      "cell_type": "markdown",
      "metadata": {
        "id": "EW1z9WiElFcB"
      },
      "source": [
        "## Aplicación de transformaciones y limpieza de datos"
      ]
    },
    {
      "cell_type": "code",
      "execution_count": 3,
      "metadata": {
        "colab": {
          "base_uri": "https://localhost:8080/"
        },
        "id": "X5DgWpcdlFcB",
        "outputId": "7806e939-9770-4c0c-c9ae-62c054e85ec3"
      },
      "outputs": [
        {
          "output_type": "stream",
          "name": "stdout",
          "text": [
            "+---------+-----------+-----+--------------------------+\n",
            "|sensor_id|zona       |valor|timestamp                 |\n",
            "+---------+-----------+-----+--------------------------+\n",
            "|s-002    |Chapinero  |48   |2025-04-21 18:21:16.053051|\n",
            "|s-001    |Usaquén    |35   |2025-04-21 18:21:16.053048|\n",
            "|s-004    |Usaquén    |NULL |2025-04-21 18:21:16.053052|\n",
            "|s-003    |Teusaquillo|0    |2025-04-21 18:21:16.053052|\n",
            "+---------+-----------+-----+--------------------------+\n",
            "\n"
          ]
        }
      ],
      "source": [
        "# 1. Eliminar duplicados\n",
        "df_clean = df.dropDuplicates()\n",
        "\n",
        "# 2. Reemplazar texto no válido por null\n",
        "df_clean = df_clean.withColumn(\"valor\", regexp_replace(\"valor\", \"[^0-9]\", \"\"))\n",
        "\n",
        "# 3. Imputación de valores faltantes con 0\n",
        "df_clean = df_clean.fillna({\"valor\": \"0\"})\n",
        "\n",
        "# 4. Conversión de tipo\n",
        "df_clean = df_clean.withColumn(\"valor\", col(\"valor\").cast(\"int\"))\n",
        "\n",
        "# 5. Normalización de zonas\n",
        "df_clean = df_clean.withColumn(\"zona\", when(col(\"zona\") == \"USQN\", \"Usaquén\")\n",
        "                                         .when(col(\"zona\") == \"CHPN\", \"Chapinero\")\n",
        "                                         .when(col(\"zona\") == \"TEUS\", \"Teusaquillo\")\n",
        "                                         .otherwise(\"Otra\"))\n",
        "\n",
        "df_clean.show(truncate=False)"
      ]
    },
    {
      "cell_type": "markdown",
      "metadata": {
        "id": "MztDOhprlFcB"
      },
      "source": [
        "## Visualización de los valores por zona"
      ]
    },
    {
      "cell_type": "code",
      "execution_count": 4,
      "metadata": {
        "colab": {
          "base_uri": "https://localhost:8080/",
          "height": 507
        },
        "id": "JIoOd9JSlFcB",
        "outputId": "b993b012-69c3-438c-beb8-f72a2c1a22e9"
      },
      "outputs": [
        {
          "output_type": "display_data",
          "data": {
            "text/plain": [
              "<Figure size 800x500 with 1 Axes>"
            ],
            "image/png": "[encoded data removed]"
          },
          "metadata": {}
        }
      ],
      "source": [
        "# Conversión a Pandas para graficar\n",
        "import matplotlib.pyplot as plt\n",
        "\n",
        "pdf = df_clean.groupBy(\"zona\").avg(\"valor\").toPandas()\n",
        "pdf.columns = [\"zona\", \"valor_promedio\"]\n",
        "\n",
        "plt.figure(figsize=(8, 5))\n",
        "plt.bar(pdf[\"zona\"], pdf[\"valor_promedio\"])\n",
        "plt.title(\"Promedio de valor por zona\")\n",
        "plt.xlabel(\"Zona\")\n",
        "plt.ylabel(\"Valor promedio\")\n",
        "plt.grid(True)\n",
        "plt.tight_layout()\n",
        "plt.show()"
      ]
    },
    {
      "cell_type": "markdown",
      "metadata": {
        "id": "dh5Uzp4ulFcB"
      },
      "source": [
        "### Conclusión\n",
        "Este ejercicio práctico permite observar cómo PySpark puede utilizarse para llevar a cabo transformaciones y limpieza de datos de forma eficiente. La visualización permite verificar que los valores han sido tratados correctamente y segmentados por zonas normalizadas."
      ]
    },
    {
      "cell_type": "markdown",
      "metadata": {
        "id": "EhG0kc4ZlFcC"
      },
      "source": [
        "## Explicaciones de las salidas\n",
        "\n",
        "1. **Visualización inicial del DataFrame (`df.show()`):**\n",
        "   Se presentan los datos simulados con errores comunes, como duplicados, valores faltantes y datos no válidos como 'n/a'. Esta salida permite identificar los problemas que se deben abordar en la limpieza.\n",
        "\n",
        "2. **Transformación paso a paso (`df_clean.show()`):**\n",
        "   Después de aplicar `dropDuplicates()`, se eliminan filas repetidas. Posteriormente:\n",
        "   - Se reemplazan caracteres no numéricos en la columna `valor`.\n",
        "   - Se imputan los valores faltantes con '0'.\n",
        "   - Se convierte `valor` de tipo string a entero con `cast()`.\n",
        "   - Se normaliza la columna `zona`, asignando nombres legibles como 'Usaquén' o 'Chapinero'.\n",
        "\n",
        "   Esta salida debe mostrar un DataFrame limpio, sin duplicados ni valores inválidos, listo para análisis o almacenamiento.\n",
        "\n",
        "3. **Gráfico de barras (`matplotlib`):**\n",
        "   Se muestra una visualización que resume el valor promedio por zona normalizada. Esta gráfica permite validar visualmente la transformación aplicada y es útil en reportes o paneles de monitoreo.\n",
        "\n",
        "   Si los valores han sido correctamente transformados, el gráfico mostrará barras proporcionales por zona y sin errores de tipo o texto."
      ]
    }
  ],
  "metadata": {
    "kernelspec": {
      "display_name": "Python 3",
      "language": "python",
      "name": "python3"
    },
    "language_info": {
      "name": "python",
      "version": "3.8"
    },
    "colab": {
      "provenance": [],
      "include_colab_link": true
    }
  },
  "nbformat": 4,
  "nbformat_minor": 0
}