{
  "cells": [
    {
      "cell_type": "markdown",
      "metadata": {
        "id": "view-in-github",
        "colab_type": "text"
      },
      "source": [
        "<a href=\"https://colab.research.google.com/github/apchavezr/-Analisis_Grandes_Volumenes_Datos/blob/main/Ejercicio_PySpark_AnalisisVentas_Explicado.ipynb\" target=\"_parent\"><img src=\"https://colab.research.google.com/assets/colab-badge.svg\" alt=\"Open In Colab\"/></a>"
      ]
    },
    {
      "cell_type": "markdown",
      "id": "a8cd2727",
      "metadata": {
        "id": "a8cd2727"
      },
      "source": [
        "# 🧪 Ejercicio práctico: Análisis de ventas por región usando PySpark\n",
        "Este notebook permite analizar el comportamiento de ventas por región y canal de venta. Se utilizará PySpark para el procesamiento de datos distribuido."
      ]
    },
    {
      "cell_type": "code",
      "execution_count": 1,
      "id": "2e352734",
      "metadata": {
        "id": "2e352734"
      },
      "outputs": [],
      "source": [
        "# Paso 1: Inicializar sesión de Spark\n",
        "from pyspark.sql import SparkSession\n",
        "\n",
        "spark = SparkSession.builder \\\n",
        "    .appName(\"AnalisisVentasRegionales\") \\\n",
        "    .getOrCreate()"
      ]
    },
    {
      "cell_type": "code",
      "execution_count": 2,
      "id": "8eea3326",
      "metadata": {
        "colab": {
          "base_uri": "https://localhost:8080/"
        },
        "id": "8eea3326",
        "outputId": "8d093ded-22b2-4275-ae48-f0deee0a5941"
      },
      "outputs": [
        {
          "output_type": "stream",
          "name": "stdout",
          "text": [
            "+---------------+-----------+----+------+\n",
            "|         region|canal_venta|anio|ventas|\n",
            "+---------------+-----------+----+------+\n",
            "|  Región Andina|     Online|2023|  5000|\n",
            "|  Región Andina| Presencial|2023|  7000|\n",
            "|  Región Caribe|     Online|2023|  3000|\n",
            "|  Región Caribe| Presencial|2023|  4500|\n",
            "|Región Pacífica|     Online|2023|  2000|\n",
            "|Región Pacífica| Presencial|2023|  3500|\n",
            "|  Región Andina|     Online|2024|  5500|\n",
            "|  Región Andina| Presencial|2024|  7500|\n",
            "|  Región Caribe|     Online|2024|  3200|\n",
            "|  Región Caribe| Presencial|2024|  4700|\n",
            "|Región Pacífica|     Online|2024|  2500|\n",
            "|Región Pacífica| Presencial|2024|  3700|\n",
            "+---------------+-----------+----+------+\n",
            "\n"
          ]
        }
      ],
      "source": [
        "# Paso 2: Crear datos de ejemplo\n",
        "data = [\n",
        "    (\"Región Andina\", \"Online\", 2023, 5000),\n",
        "    (\"Región Andina\", \"Presencial\", 2023, 7000),\n",
        "    (\"Región Caribe\", \"Online\", 2023, 3000),\n",
        "    (\"Región Caribe\", \"Presencial\", 2023, 4500),\n",
        "    (\"Región Pacífica\", \"Online\", 2023, 2000),\n",
        "    (\"Región Pacífica\", \"Presencial\", 2023, 3500),\n",
        "    (\"Región Andina\", \"Online\", 2024, 5500),\n",
        "    (\"Región Andina\", \"Presencial\", 2024, 7500),\n",
        "    (\"Región Caribe\", \"Online\", 2024, 3200),\n",
        "    (\"Región Caribe\", \"Presencial\", 2024, 4700),\n",
        "    (\"Región Pacífica\", \"Online\", 2024, 2500),\n",
        "    (\"Región Pacífica\", \"Presencial\", 2024, 3700),\n",
        "]\n",
        "\n",
        "columnas = [\"region\", \"canal_venta\", \"anio\", \"ventas\"]\n",
        "df = spark.createDataFrame(data, columnas)\n",
        "df.show()"
      ]
    },
    {
      "cell_type": "code",
      "execution_count": 3,
      "id": "16eb39d6",
      "metadata": {
        "colab": {
          "base_uri": "https://localhost:8080/"
        },
        "id": "16eb39d6",
        "outputId": "73258180-5de2-4b4f-a40a-bf1c12dd25c4"
      },
      "outputs": [
        {
          "output_type": "stream",
          "name": "stdout",
          "text": [
            "+---------------+-----------+---------------+\n",
            "|         region|canal_venta|promedio_ventas|\n",
            "+---------------+-----------+---------------+\n",
            "|Región Pacífica| Presencial|         3600.0|\n",
            "|  Región Caribe| Presencial|         4600.0|\n",
            "|  Región Andina|     Online|         5250.0|\n",
            "|Región Pacífica|     Online|         2250.0|\n",
            "|  Región Andina| Presencial|         7250.0|\n",
            "|  Región Caribe|     Online|         3100.0|\n",
            "+---------------+-----------+---------------+\n",
            "\n"
          ]
        }
      ],
      "source": [
        "# Paso 3: Cálculo del promedio de ventas por región y canal\n",
        "from pyspark.sql.functions import avg, col, when\n",
        "\n",
        "promedios = df.groupBy(\"region\", \"canal_venta\") \\\n",
        "    .agg(avg(\"ventas\").alias(\"promedio_ventas\"))\n",
        "promedios.show()"
      ]
    },
    {
      "cell_type": "code",
      "execution_count": 4,
      "id": "3c541316",
      "metadata": {
        "colab": {
          "base_uri": "https://localhost:8080/"
        },
        "id": "3c541316",
        "outputId": "d0d99dfc-6b3b-40cc-99d8-678117a33bfe"
      },
      "outputs": [
        {
          "output_type": "stream",
          "name": "stdout",
          "text": [
            "+---------------+-----------+---------------+------------+\n",
            "|         region|canal_venta|promedio_ventas|   categoria|\n",
            "+---------------+-----------+---------------+------------+\n",
            "|Región Pacífica| Presencial|         3600.0|Media o Baja|\n",
            "|  Región Caribe| Presencial|         4600.0|Media o Baja|\n",
            "|  Región Andina|     Online|         5250.0|        Alta|\n",
            "|Región Pacífica|     Online|         2250.0|Media o Baja|\n",
            "|  Región Andina| Presencial|         7250.0|        Alta|\n",
            "|  Región Caribe|     Online|         3100.0|Media o Baja|\n",
            "+---------------+-----------+---------------+------------+\n",
            "\n"
          ]
        }
      ],
      "source": [
        "# Paso 4: Clasificación según promedio de ventas\n",
        "resultado = promedios.withColumn(\n",
        "    \"categoria\",\n",
        "    when(col(\"promedio_ventas\") >= 5000, \"Alta\").otherwise(\"Media o Baja\")\n",
        ")\n",
        "resultado.show()"
      ]
    },
    {
      "cell_type": "code",
      "execution_count": 5,
      "id": "5b1745a5",
      "metadata": {
        "colab": {
          "base_uri": "https://localhost:8080/",
          "height": 237
        },
        "id": "5b1745a5",
        "outputId": "a2dc2396-6d81-4048-c607-5651b6749fe7"
      },
      "outputs": [
        {
          "output_type": "execute_result",
          "data": {
            "text/plain": [
              "            region canal_venta  promedio_ventas     categoria\n",
              "0  Región Pacífica  Presencial           3600.0  Media o Baja\n",
              "1    Región Caribe  Presencial           4600.0  Media o Baja\n",
              "2    Región Andina      Online           5250.0          Alta\n",
              "3  Región Pacífica      Online           2250.0  Media o Baja\n",
              "4    Región Andina  Presencial           7250.0          Alta\n",
              "5    Región Caribe      Online           3100.0  Media o Baja"
            ],
            "text/html": [
              "\n",
              "  <div id=\"df-bae03c38-3c8a-4fcd-93dd-56a46c02853b\" class=\"colab-df-container\">\n",
              "    <div>\n",
              "<style scoped>\n",
              "    .dataframe tbody tr th:only-of-type {\n",
              "        vertical-align: middle;\n",
              "    }\n",
              "\n",
              "    .dataframe tbody tr th {\n",
              "        vertical-align: top;\n",
              "    }\n",
              "\n",
              "    .dataframe thead th {\n",
              "        text-align: right;\n",
              "    }\n",
              "</style>\n",
              "<table border=\"1\" class=\"dataframe\">\n",
              "  <thead>\n",
              "    <tr style=\"text-align: right;\">\n",
              "      <th></th>\n",
              "      <th>region</th>\n",
              "      <th>canal_venta</th>\n",
              "      <th>promedio_ventas</th>\n",
              "      <th>categoria</th>\n",
              "    </tr>\n",
              "  </thead>\n",
              "  <tbody>\n",
              "    <tr>\n",
              "      <th>0</th>\n",
              "      <td>Región Pacífica</td>\n",
              "      <td>Presencial</td>\n",
              "      <td>3600.0</td>\n",
              "      <td>Media o Baja</td>\n",
              "    </tr>\n",
              "    <tr>\n",
              "      <th>1</th>\n",
              "      <td>Región Caribe</td>\n",
              "      <td>Presencial</td>\n",
              "      <td>4600.0</td>\n",
              "      <td>Media o Baja</td>\n",
              "    </tr>\n",
              "    <tr>\n",
              "      <th>2</th>\n",
              "      <td>Región Andina</td>\n",
              "      <td>Online</td>\n",
              "      <td>5250.0</td>\n",
              "      <td>Alta</td>\n",
              "    </tr>\n",
              "    <tr>\n",
              "      <th>3</th>\n",
              "      <td>Región Pacífica</td>\n",
              "      <td>Online</td>\n",
              "      <td>2250.0</td>\n",
              "      <td>Media o Baja</td>\n",
              "    </tr>\n",
              "    <tr>\n",
              "      <th>4</th>\n",
              "      <td>Región Andina</td>\n",
              "      <td>Presencial</td>\n",
              "      <td>7250.0</td>\n",
              "      <td>Alta</td>\n",
              "    </tr>\n",
              "    <tr>\n",
              "      <th>5</th>\n",
              "      <td>Región Caribe</td>\n",
              "      <td>Online</td>\n",
              "      <td>3100.0</td>\n",
              "      <td>Media o Baja</td>\n",
              "    </tr>\n",
              "  </tbody>\n",
              "</table>\n",
              "</div>\n",
              "    <div class=\"colab-df-buttons\">\n",
              "\n",
              "  <div class=\"colab-df-container\">\n",
              "    <button class=\"colab-df-convert\" onclick=\"convertToInteractive('df-bae03c38-3c8a-4fcd-93dd-56a46c02853b')\"\n",
              "            title=\"Convert this dataframe to an interactive table.\"\n",
              "            style=\"display:none;\">\n",
              "\n",
              "  <svg xmlns=\"http://www.w3.org/2000/svg\" height=\"24px\" viewBox=\"0 -960 960 960\">\n",
              "    <path d=\"M120-120v-720h720v720H120Zm60-500h600v-160H180v160Zm220 220h160v-160H400v160Zm0 220h160v-160H400v160ZM180-400h160v-160H180v160Zm440 0h160v-160H620v160ZM180-180h160v-160H180v160Zm440 0h160v-160H620v160Z\"/>\n",
              "  </svg>\n",
              "    </button>\n",
              "\n",
              "  <style>\n",
              "    .colab-df-container {\n",
              "      display:flex;\n",
              "      gap: 12px;\n",
              "    }\n",
              "\n",
              "    .colab-df-convert {\n",
              "      background-color: #E8F0FE;\n",
              "      border: none;\n",
              "      border-radius: 50%;\n",
              "      cursor: pointer;\n",
              "      display: none;\n",
              "      fill: #1967D2;\n",
              "      height: 32px;\n",
              "      padding: 0 0 0 0;\n",
              "      width: 32px;\n",
              "    }\n",
              "\n",
              "    .colab-df-convert:hover {\n",
              "      background-color: #E2EBFA;\n",
              "      box-shadow: 0px 1px 2px rgba(60, 64, 67, 0.3), 0px 1px 3px 1px rgba(60, 64, 67, 0.15);\n",
              "      fill: #174EA6;\n",
              "    }\n",
              "\n",
              "    .colab-df-buttons div {\n",
              "      margin-bottom: 4px;\n",
              "    }\n",
              "\n",
              "    [theme=dark] .colab-df-convert {\n",
              "      background-color: #3B4455;\n",
              "      fill: #D2E3FC;\n",
              "    }\n",
              "\n",
              "    [theme=dark] .colab-df-convert:hover {\n",
              "      background-color: #434B5C;\n",
              "      box-shadow: 0px 1px 3px 1px rgba(0, 0, 0, 0.15);\n",
              "      filter: drop-shadow(0px 1px 2px rgba(0, 0, 0, 0.3));\n",
              "      fill: #FFFFFF;\n",
              "    }\n",
              "  </style>\n",
              "\n",
              "    <script>\n",
              "      const buttonEl =\n",
              "        document.querySelector('#df-bae03c38-3c8a-4fcd-93dd-56a46c02853b button.colab-df-convert');\n",
              "      buttonEl.style.display =\n",
              "        google.colab.kernel.accessAllowed ? 'block' : 'none';\n",
              "\n",
              "      async function convertToInteractive(key) {\n",
              "        const element = document.querySelector('#df-bae03c38-3c8a-4fcd-93dd-56a46c02853b');\n",
              "        const dataTable =\n",
              "          await google.colab.kernel.invokeFunction('convertToInteractive',\n",
              "                                                    [key], {});\n",
              "        if (!dataTable) return;\n",
              "\n",
              "        const docLinkHtml = 'Like what you see? Visit the ' +\n",
              "          '<a target=\"_blank\" href=https://colab.research.google.com/notebooks/data_table.ipynb>data table notebook</a>'\n",
              "          + ' to learn more about interactive tables.';\n",
              "        element.innerHTML = '';\n",
              "        dataTable['output_type'] = 'display_data';\n",
              "        await google.colab.output.renderOutput(dataTable, element);\n",
              "        const docLink = document.createElement('div');\n",
              "        docLink.innerHTML = docLinkHtml;\n",
              "        element.appendChild(docLink);\n",
              "      }\n",
              "    </script>\n",
              "  </div>\n",
              "\n",
              "\n",
              "<div id=\"df-6d229fbf-ee27-430e-8d00-d0fd2b363e5f\">\n",
              "  <button class=\"colab-df-quickchart\" onclick=\"quickchart('df-6d229fbf-ee27-430e-8d00-d0fd2b363e5f')\"\n",
              "            title=\"Suggest charts\"\n",
              "            style=\"display:none;\">\n",
              "\n",
              "<svg xmlns=\"http://www.w3.org/2000/svg\" height=\"24px\"viewBox=\"0 0 24 24\"\n",
              "     width=\"24px\">\n",
              "    <g>\n",
              "        <path d=\"M19 3H5c-1.1 0-2 .9-2 2v14c0 1.1.9 2 2 2h14c1.1 0 2-.9 2-2V5c0-1.1-.9-2-2-2zM9 17H7v-7h2v7zm4 0h-2V7h2v10zm4 0h-2v-4h2v4z\"/>\n",
              "    </g>\n",
              "</svg>\n",
              "  </button>\n",
              "\n",
              "<style>\n",
              "  .colab-df-quickchart {\n",
              "      --bg-color: #E8F0FE;\n",
              "      --fill-color: #1967D2;\n",
              "      --hover-bg-color: #E2EBFA;\n",
              "      --hover-fill-color: #174EA6;\n",
              "      --disabled-fill-color: #AAA;\n",
              "      --disabled-bg-color: #DDD;\n",
              "  }\n",
              "\n",
              "  [theme=dark] .colab-df-quickchart {\n",
              "      --bg-color: #3B4455;\n",
              "      --fill-color: #D2E3FC;\n",
              "      --hover-bg-color: #434B5C;\n",
              "      --hover-fill-color: #FFFFFF;\n",
              "      --disabled-bg-color: #3B4455;\n",
              "      --disabled-fill-color: #666;\n",
              "  }\n",
              "\n",
              "  .colab-df-quickchart {\n",
              "    background-color: var(--bg-color);\n",
              "    border: none;\n",
              "    border-radius: 50%;\n",
              "    cursor: pointer;\n",
              "    display: none;\n",
              "    fill: var(--fill-color);\n",
              "    height: 32px;\n",
              "    padding: 0;\n",
              "    width: 32px;\n",
              "  }\n",
              "\n",
              "  .colab-df-quickchart:hover {\n",
              "    background-color: var(--hover-bg-color);\n",
              "    box-shadow: 0 1px 2px rgba(60, 64, 67, 0.3), 0 1px 3px 1px rgba(60, 64, 67, 0.15);\n",
              "    fill: var(--button-hover-fill-color);\n",
              "  }\n",
              "\n",
              "  .colab-df-quickchart-complete:disabled,\n",
              "  .colab-df-quickchart-complete:disabled:hover {\n",
              "    background-color: var(--disabled-bg-color);\n",
              "    fill: var(--disabled-fill-color);\n",
              "    box-shadow: none;\n",
              "  }\n",
              "\n",
              "  .colab-df-spinner {\n",
              "    border: 2px solid var(--fill-color);\n",
              "    border-color: transparent;\n",
              "    border-bottom-color: var(--fill-color);\n",
              "    animation:\n",
              "      spin 1s steps(1) infinite;\n",
              "  }\n",
              "\n",
              "  @keyframes spin {\n",
              "    0% {\n",
              "      border-color: transparent;\n",
              "      border-bottom-color: var(--fill-color);\n",
              "      border-left-color: var(--fill-color);\n",
              "    }\n",
              "    20% {\n",
              "      border-color: transparent;\n",
              "      border-left-color: var(--fill-color);\n",
              "      border-top-color: var(--fill-color);\n",
              "    }\n",
              "    30% {\n",
              "      border-color: transparent;\n",
              "      border-left-color: var(--fill-color);\n",
              "      border-top-color: var(--fill-color);\n",
              "      border-right-color: var(--fill-color);\n",
              "    }\n",
              "    40% {\n",
              "      border-color: transparent;\n",
              "      border-right-color: var(--fill-color);\n",
              "      border-top-color: var(--fill-color);\n",
              "    }\n",
              "    60% {\n",
              "      border-color: transparent;\n",
              "      border-right-color: var(--fill-color);\n",
              "    }\n",
              "    80% {\n",
              "      border-color: transparent;\n",
              "      border-right-color: var(--fill-color);\n",
              "      border-bottom-color: var(--fill-color);\n",
              "    }\n",
              "    90% {\n",
              "      border-color: transparent;\n",
              "      border-bottom-color: var(--fill-color);\n",
              "    }\n",
              "  }\n",
              "</style>\n",
              "\n",
              "  <script>\n",
              "    async function quickchart(key) {\n",
              "      const quickchartButtonEl =\n",
              "        document.querySelector('#' + key + ' button');\n",
              "      quickchartButtonEl.disabled = true;  // To prevent multiple clicks.\n",
              "      quickchartButtonEl.classList.add('colab-df-spinner');\n",
              "      try {\n",
              "        const charts = await google.colab.kernel.invokeFunction(\n",
              "            'suggestCharts', [key], {});\n",
              "      } catch (error) {\n",
              "        console.error('Error during call to suggestCharts:', error);\n",
              "      }\n",
              "      quickchartButtonEl.classList.remove('colab-df-spinner');\n",
              "      quickchartButtonEl.classList.add('colab-df-quickchart-complete');\n",
              "    }\n",
              "    (() => {\n",
              "      let quickchartButtonEl =\n",
              "        document.querySelector('#df-6d229fbf-ee27-430e-8d00-d0fd2b363e5f button');\n",
              "      quickchartButtonEl.style.display =\n",
              "        google.colab.kernel.accessAllowed ? 'block' : 'none';\n",
              "    })();\n",
              "  </script>\n",
              "</div>\n",
              "\n",
              "    </div>\n",
              "  </div>\n"
            ],
            "application/vnd.google.colaboratory.intrinsic+json": {
              "type": "dataframe",
              "summary": "{\n  \"name\": \"resultado\",\n  \"rows\": 6,\n  \"fields\": [\n    {\n      \"column\": \"region\",\n      \"properties\": {\n        \"dtype\": \"string\",\n        \"num_unique_values\": 3,\n        \"samples\": [\n          \"Regi\\u00f3n Pac\\u00edfica\",\n          \"Regi\\u00f3n Caribe\",\n          \"Regi\\u00f3n Andina\"\n        ],\n        \"semantic_type\": \"\",\n        \"description\": \"\"\n      }\n    },\n    {\n      \"column\": \"canal_venta\",\n      \"properties\": {\n        \"dtype\": \"category\",\n        \"num_unique_values\": 2,\n        \"samples\": [\n          \"Online\",\n          \"Presencial\"\n        ],\n        \"semantic_type\": \"\",\n        \"description\": \"\"\n      }\n    },\n    {\n      \"column\": \"promedio_ventas\",\n      \"properties\": {\n        \"dtype\": \"number\",\n        \"std\": 1778.5996364181194,\n        \"min\": 2250.0,\n        \"max\": 7250.0,\n        \"num_unique_values\": 6,\n        \"samples\": [\n          3600.0,\n          4600.0\n        ],\n        \"semantic_type\": \"\",\n        \"description\": \"\"\n      }\n    },\n    {\n      \"column\": \"categoria\",\n      \"properties\": {\n        \"dtype\": \"category\",\n        \"num_unique_values\": 2,\n        \"samples\": [\n          \"Alta\",\n          \"Media o Baja\"\n        ],\n        \"semantic_type\": \"\",\n        \"description\": \"\"\n      }\n    }\n  ]\n}"
            }
          },
          "metadata": {},
          "execution_count": 5
        }
      ],
      "source": [
        "# Paso 5: Exportar a Pandas (opcional para visualización si usa Colab)\n",
        "resultado.toPandas()"
      ]
    },
    {
      "cell_type": "markdown",
      "id": "d1d8180b",
      "metadata": {
        "id": "d1d8180b"
      },
      "source": [
        "## 💡 Preguntas guía\n",
        "1. ¿Qué regiones muestran un comportamiento de ventas más alto en el canal online?\n",
        "2. ¿Cómo varían las ventas entre los años 2023 y 2024?\n",
        "3. ¿Qué transformaciones adicionales se podrían aplicar al DataFrame para segmentar por trimestre o producto?"
      ]
    },
    {
      "cell_type": "markdown",
      "id": "ef4e248a",
      "metadata": {
        "id": "ef4e248a"
      },
      "source": [
        "## 🔍 Desarrollo de preguntas guía"
      ]
    },
    {
      "cell_type": "markdown",
      "id": "e330af2d",
      "metadata": {
        "id": "e330af2d"
      },
      "source": [
        "### 1. ¿Qué regiones muestran un comportamiento de ventas más alto en el canal online?\n",
        "Vamos a filtrar los datos para el canal de venta 'Online' y luego ordenar las regiones por su promedio de ventas de forma descendente."
      ]
    },
    {
      "cell_type": "code",
      "execution_count": 6,
      "id": "1f12adef",
      "metadata": {
        "colab": {
          "base_uri": "https://localhost:8080/"
        },
        "id": "1f12adef",
        "outputId": "036a1570-0a28-4d83-abb0-41cae0c8cec2"
      },
      "outputs": [
        {
          "output_type": "stream",
          "name": "stdout",
          "text": [
            "+---------------+-----------+---------------+------------+\n",
            "|         region|canal_venta|promedio_ventas|   categoria|\n",
            "+---------------+-----------+---------------+------------+\n",
            "|  Región Andina|     Online|         5250.0|        Alta|\n",
            "|  Región Caribe|     Online|         3100.0|Media o Baja|\n",
            "|Región Pacífica|     Online|         2250.0|Media o Baja|\n",
            "+---------------+-----------+---------------+------------+\n",
            "\n"
          ]
        }
      ],
      "source": [
        "online = resultado.filter(resultado.canal_venta == \"Online\")\n",
        "online.orderBy(\"promedio_ventas\", ascending=False).show()"
      ]
    },
    {
      "cell_type": "markdown",
      "id": "df89cbde",
      "metadata": {
        "id": "df89cbde"
      },
      "source": [
        "**Explicación:** La tabla anterior muestra las regiones que operan en el canal Online, ordenadas por su rendimiento. Se observa que la Región Andina tiene el mayor promedio de ventas en línea, lo cual puede deberse a una mayor penetración tecnológica o estrategias de comercio digital más desarrolladas."
      ]
    },
    {
      "cell_type": "markdown",
      "id": "8390f53a",
      "metadata": {
        "id": "8390f53a"
      },
      "source": [
        "### 2. ¿Cómo varían las ventas entre los años 2023 y 2024?\n",
        "Ahora vamos a agrupar por año y calcular el promedio total de ventas para observar la evolución anual."
      ]
    },
    {
      "cell_type": "code",
      "execution_count": 7,
      "id": "3d3ebebe",
      "metadata": {
        "colab": {
          "base_uri": "https://localhost:8080/"
        },
        "id": "3d3ebebe",
        "outputId": "70648077-d155-490a-f214-ca6221c97bca"
      },
      "outputs": [
        {
          "output_type": "stream",
          "name": "stdout",
          "text": [
            "+----+-----------------+\n",
            "|anio|   promedio_anual|\n",
            "+----+-----------------+\n",
            "|2023|4166.666666666667|\n",
            "|2024|4516.666666666667|\n",
            "+----+-----------------+\n",
            "\n"
          ]
        }
      ],
      "source": [
        "df.groupBy(\"anio\").agg(avg(\"ventas\").alias(\"promedio_anual\")).orderBy(\"anio\").show()"
      ]
    },
    {
      "cell_type": "markdown",
      "id": "00257abf",
      "metadata": {
        "id": "00257abf"
      },
      "source": [
        "**Explicación:** Este análisis permite identificar tendencias interanuales. Un aumento en el promedio de ventas puede reflejar un mejor desempeño comercial, mayor cobertura del sistema o estrategias de venta más efectivas."
      ]
    },
    {
      "cell_type": "markdown",
      "id": "53cf3716",
      "metadata": {
        "id": "53cf3716"
      },
      "source": [
        "### 3. ¿Qué transformaciones adicionales se podrían aplicar al DataFrame para segmentar por trimestre o producto?\n",
        "Aunque el conjunto de datos no tiene productos ni fechas exactas, podemos simular una transformación para segmentar por trimestre si tuviéramos una columna de fecha."
      ]
    },
    {
      "cell_type": "code",
      "execution_count": null,
      "id": "94b8517a",
      "metadata": {
        "id": "94b8517a"
      },
      "outputs": [],
      "source": [
        "# Simulación: si existiera una columna 'fecha', podríamos hacer esto:\n",
        "# from pyspark.sql.functions import quarter, to_date\n",
        "# df = df.withColumn(\"fecha\", to_date(df.fecha, \"yyyy-MM-dd\"))\n",
        "# df = df.withColumn(\"trimestre\", quarter(\"fecha\"))"
      ]
    },
    {
      "cell_type": "markdown",
      "id": "055d3d6c",
      "metadata": {
        "id": "055d3d6c"
      },
      "source": [
        "**Explicación:** Estas transformaciones son comunes en análisis de ventas para estudiar estacionalidad o comportamientos periódicos. En proyectos reales, también es común incorporar variables como categoría de producto, promociones, y canales cruzados."
      ]
    }
  ],
  "metadata": {
    "colab": {
      "provenance": [],
      "include_colab_link": true
    },
    "language_info": {
      "name": "python"
    },
    "kernelspec": {
      "name": "python3",
      "display_name": "Python 3"
    }
  },
  "nbformat": 4,
  "nbformat_minor": 5
}