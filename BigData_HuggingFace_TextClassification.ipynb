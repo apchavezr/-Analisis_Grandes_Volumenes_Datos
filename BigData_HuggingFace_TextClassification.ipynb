{
  "cells": [
    {
      "cell_type": "markdown",
      "metadata": {
        "id": "view-in-github",
        "colab_type": "text"
      },
      "source": [
        "<a href=\"https://colab.research.google.com/github/apchavezr/-Analisis_Grandes_Volumenes_Datos/blob/main/BigData_HuggingFace_TextClassification.ipynb\" target=\"_parent\"><img src=\"https://colab.research.google.com/assets/colab-badge.svg\" alt=\"Open In Colab\"/></a>"
      ]
    },
    {
      "cell_type": "markdown",
      "id": "f247fd8b",
      "metadata": {
        "id": "f247fd8b"
      },
      "source": [
        "\n",
        "# Clasificación de Texto con Transformers de Hugging Face\n",
        "\n",
        "Este notebook complementa la unidad *Fundamentos conceptuales y tipos de datos en entornos Big Data*, explorando cómo aplicar modelos de lenguaje avanzados para clasificar textos no estructurados. En este caso, se utilizará un modelo preentrenado de la biblioteca `transformers` para realizar análisis de sentimientos.\n",
        "\n",
        "### Objetivo\n",
        "Clasificar comentarios ciudadanos simulados como positivos o negativos usando un modelo de Transformers preentrenado por Hugging Face.\n",
        "\n",
        "### Contexto\n",
        "Este tipo de análisis puede ser aplicado, por ejemplo, a textos de participación ciudadana recolectados en plataformas como Bogotá Abierta, para detectar percepciones sobre políticas públicas.\n"
      ]
    },
    {
      "cell_type": "code",
      "execution_count": 1,
      "id": "7ccf9802",
      "metadata": {
        "colab": {
          "base_uri": "https://localhost:8080/"
        },
        "id": "7ccf9802",
        "outputId": "e332ed96-d2e8-4a3d-adf9-5cbdd6e7b1dc"
      },
      "outputs": [
        {
          "output_type": "stream",
          "name": "stdout",
          "text": [
            "\u001b[2K   \u001b[90m━━━━━━━━━━━━━━━━━━━━━━━━━━━━━━━━━━━━━━━━\u001b[0m \u001b[32m363.4/363.4 MB\u001b[0m \u001b[31m2.9 MB/s\u001b[0m eta \u001b[36m0:00:00\u001b[0m\n",
            "\u001b[2K   \u001b[90m━━━━━━━━━━━━━━━━━━━━━━━━━━━━━━━━━━━━━━━━\u001b[0m \u001b[32m13.8/13.8 MB\u001b[0m \u001b[31m74.8 MB/s\u001b[0m eta \u001b[36m0:00:00\u001b[0m\n",
            "\u001b[2K   \u001b[90m━━━━━━━━━━━━━━━━━━━━━━━━━━━━━━━━━━━━━━━━\u001b[0m \u001b[32m24.6/24.6 MB\u001b[0m \u001b[31m59.4 MB/s\u001b[0m eta \u001b[36m0:00:00\u001b[0m\n",
            "\u001b[2K   \u001b[90m━━━━━━━━━━━━━━━━━━━━━━━━━━━━━━━━━━━━━━━━\u001b[0m \u001b[32m883.7/883.7 kB\u001b[0m \u001b[31m17.5 MB/s\u001b[0m eta \u001b[36m0:00:00\u001b[0m\n",
            "\u001b[2K   \u001b[90m━━━━━━━━━━━━━━━━━━━━━━━━━━━━━━━━━━━━━━━━\u001b[0m \u001b[32m664.8/664.8 MB\u001b[0m \u001b[31m2.0 MB/s\u001b[0m eta \u001b[36m0:00:00\u001b[0m\n",
            "\u001b[2K   \u001b[90m━━━━━━━━━━━━━━━━━━━━━━━━━━━━━━━━━━━━━━━━\u001b[0m \u001b[32m211.5/211.5 MB\u001b[0m \u001b[31m5.9 MB/s\u001b[0m eta \u001b[36m0:00:00\u001b[0m\n",
            "\u001b[2K   \u001b[90m━━━━━━━━━━━━━━━━━━━━━━━━━━━━━━━━━━━━━━━━\u001b[0m \u001b[32m56.3/56.3 MB\u001b[0m \u001b[31m12.7 MB/s\u001b[0m eta \u001b[36m0:00:00\u001b[0m\n",
            "\u001b[2K   \u001b[90m━━━━━━━━━━━━━━━━━━━━━━━━━━━━━━━━━━━━━━━━\u001b[0m \u001b[32m127.9/127.9 MB\u001b[0m \u001b[31m7.5 MB/s\u001b[0m eta \u001b[36m0:00:00\u001b[0m\n",
            "\u001b[2K   \u001b[90m━━━━━━━━━━━━━━━━━━━━━━━━━━━━━━━━━━━━━━━━\u001b[0m \u001b[32m207.5/207.5 MB\u001b[0m \u001b[31m5.8 MB/s\u001b[0m eta \u001b[36m0:00:00\u001b[0m\n",
            "\u001b[2K   \u001b[90m━━━━━━━━━━━━━━━━━━━━━━━━━━━━━━━━━━━━━━━━\u001b[0m \u001b[32m21.1/21.1 MB\u001b[0m \u001b[31m72.8 MB/s\u001b[0m eta \u001b[36m0:00:00\u001b[0m\n",
            "\u001b[?25h"
          ]
        }
      ],
      "source": [
        "\n",
        "!pip install -q transformers\n",
        "!pip install -q torch\n"
      ]
    },
    {
      "cell_type": "code",
      "execution_count": 5,
      "id": "01c79c68",
      "metadata": {
        "colab": {
          "base_uri": "https://localhost:8080/"
        },
        "id": "01c79c68",
        "outputId": "8fdc416a-b35b-4614-cee5-d4625d416814"
      },
      "outputs": [
        {
          "output_type": "stream",
          "name": "stderr",
          "text": [
            "Device set to use cpu\n",
            "Device set to use cpu\n"
          ]
        },
        {
          "output_type": "stream",
          "name": "stdout",
          "text": [
            "Texto: Estoy muy satisfecho con la nueva ciclovía en la carrera 7ma.\n",
            "→ Sentimiento: 5 stars (Confianza: 0.7)\n",
            "\n",
            "Texto: El servicio de salud ha sido deficiente y lento.\n",
            "→ Sentimiento: 2 stars (Confianza: 0.45)\n",
            "\n",
            "Texto: Gracias por implementar más zonas verdes en mi barrio.\n",
            "→ Sentimiento: 5 stars (Confianza: 0.55)\n",
            "\n",
            "Texto: La recolección de basuras ha empeorado en las últimas semanas.\n",
            "→ Sentimiento: 2 stars (Confianza: 0.29)\n",
            "\n"
          ]
        }
      ],
      "source": [
        "\n",
        "from transformers import pipeline\n",
        "\n",
        "# Cargar el pipeline de análisis de sentimientos en español\n",
        "classifier = pipeline(\"sentiment-analysis\", model=\"nlptown/bert-base-multilingual-uncased-sentiment\")\n",
        "\n",
        "# Comentarios simulados de participación ciudadana\n",
        "comentarios = [\n",
        "    \"Estoy muy satisfecho con la nueva ciclovía en la carrera 7ma.\",\n",
        "    \"El servicio de salud ha sido deficiente y lento.\",\n",
        "    \"Gracias por implementar más zonas verdes en mi barrio.\",\n",
        "    \"La recolección de basuras ha empeorado en las últimas semanas.\"\n",
        "]\n",
        "\n",
        "from transformers import pipeline\n",
        "\n",
        "# Cargar el pipeline de análisis de sentimientos en español\n",
        "classifier = pipeline(\"sentiment-analysis\", model=\"nlptown/bert-base-multilingual-uncased-sentiment\")\n",
        "\n",
        "# Comentarios simulados de participación ciudadana\n",
        "comentarios = [\n",
        "    \"Estoy muy satisfecho con la nueva ciclovía en la carrera 7ma.\",\n",
        "    \"El servicio de salud ha sido deficiente y lento.\",\n",
        "    \"Gracias por implementar más zonas verdes en mi barrio.\",\n",
        "    \"La recolección de basuras ha empeorado en las últimas semanas.\"\n",
        "]\n",
        "\n",
        "# Clasificación de sentimientos\n",
        "for comentario in comentarios:\n",
        "    resultado = classifier(comentario)[0]\n",
        "    print(f\"Texto: {comentario}\\n→ Sentimiento: {resultado['label']} (Confianza: {round(resultado['score'], 2)})\\n\")\n"
      ]
    },
    {
      "cell_type": "markdown",
      "id": "d225fca1",
      "metadata": {
        "id": "d225fca1"
      },
      "source": [
        "\n",
        "### Reflexión\n",
        "\n",
        "La clasificación automática de texto es una herramienta útil para extraer **valor** de los datos no estructurados. En este ejemplo, se demuestra cómo utilizar un modelo de Transformers para **identificar patrones de sentimiento**, lo cual puede ser útil para evaluar la opinión ciudadana en procesos participativos.\n",
        "\n",
        "**Aplicaciones prácticas en Colombia:**\n",
        "- Análisis de retroalimentación en redes sociales sobre temas de salud, movilidad o seguridad.\n",
        "- Evaluación de opiniones en encuestas abiertas o plataformas como Bogotá Abierta.\n",
        "- Soporte a estrategias de comunicación institucional basadas en percepción ciudadana.\n",
        "\n",
        "---\n",
        "\n",
        "**Vs relacionadas del Big Data:**\n",
        "- **Variedad**, al trabajar con texto libre como fuente de datos.\n",
        "- **Valor**, al obtener conocimiento útil para la toma de decisiones desde opiniones subjetivas.\n",
        "\n"
      ]
    }
  ],
  "metadata": {
    "colab": {
      "provenance": [],
      "include_colab_link": true
    },
    "language_info": {
      "name": "python"
    },
    "kernelspec": {
      "name": "python3",
      "display_name": "Python 3"
    }
  },
  "nbformat": 4,
  "nbformat_minor": 5
}