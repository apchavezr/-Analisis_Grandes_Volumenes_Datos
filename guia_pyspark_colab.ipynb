{
  "cells": [
    {
      "cell_type": "markdown",
      "metadata": {
        "id": "view-in-github",
        "colab_type": "text"
      },
      "source": [
        "<a href=\"https://colab.research.google.com/github/apchavezr/-Analisis_Grandes_Volumenes_Datos/blob/main/guia_pyspark_colab.ipynb\" target=\"_parent\"><img src=\"https://colab.research.google.com/assets/colab-badge.svg\" alt=\"Open In Colab\"/></a>"
      ]
    },
    {
      "cell_type": "markdown",
      "id": "e50cdeed",
      "metadata": {
        "id": "e50cdeed"
      },
      "source": [
        "# 🧪 Ejercicio en PySpark desde Google Colab\n",
        "Guía paso a paso para ejecutar procesamiento distribuido usando PySpark en Google Colab."
      ]
    },
    {
      "cell_type": "markdown",
      "id": "cc34f310",
      "metadata": {
        "id": "cc34f310"
      },
      "source": [
        "## 1. Preparar el entorno en Google Colab\n",
        "Instale PySpark ejecutando el siguiente comando:"
      ]
    },
    {
      "cell_type": "code",
      "execution_count": null,
      "id": "2649ed36",
      "metadata": {
        "id": "2649ed36"
      },
      "outputs": [],
      "source": [
        "!pip install pyspark"
      ]
    },
    {
      "cell_type": "markdown",
      "id": "03be42b8",
      "metadata": {
        "id": "03be42b8"
      },
      "source": [
        "Verifique que PySpark se haya instalado correctamente:"
      ]
    },
    {
      "cell_type": "code",
      "execution_count": null,
      "id": "48129657",
      "metadata": {
        "id": "48129657"
      },
      "outputs": [],
      "source": [
        "import pyspark\n",
        "print(pyspark.__version__)"
      ]
    },
    {
      "cell_type": "markdown",
      "id": "8cb04d5b",
      "metadata": {
        "id": "8cb04d5b"
      },
      "source": [
        "## 2. Conectar Google Colab con Google Drive"
      ]
    },
    {
      "cell_type": "code",
      "execution_count": null,
      "id": "256c0069",
      "metadata": {
        "id": "256c0069"
      },
      "outputs": [],
      "source": [
        "from google.colab import drive\n",
        "drive.mount('/content/drive')"
      ]
    },
    {
      "cell_type": "markdown",
      "id": "fb786718",
      "metadata": {
        "id": "fb786718"
      },
      "source": [
        "## 3. Cargar un notebook o archivo desde GitHub o Google Drive\n",
        "Descargue el archivo desde GitHub: [actividad_pyspark_distribuido.ipynb](https://github.com/apchavezr/-Analisis_Grandes_Volumenes_Datos/blob/main/actividad_pyspark_distribuido.ipynb)"
      ]
    },
    {
      "cell_type": "markdown",
      "id": "cf91fd37",
      "metadata": {
        "id": "cf91fd37"
      },
      "source": [
        "Puede subir el archivo descargado con:\n",
        "- Archivo > Subir notebook\n",
        "- Archivo > Abrir desde Drive"
      ]
    },
    {
      "cell_type": "markdown",
      "id": "76d857db",
      "metadata": {
        "id": "76d857db"
      },
      "source": [
        "## 4. Configurar PySpark y cargar datos"
      ]
    },
    {
      "cell_type": "code",
      "execution_count": null,
      "id": "44b646b4",
      "metadata": {
        "id": "44b646b4"
      },
      "outputs": [],
      "source": [
        "from pyspark.sql import SparkSession\n",
        "\n",
        "spark = SparkSession.builder.appName(\"EjercicioPySpark\").getOrCreate()\n",
        "\n",
        "# Reemplace esta ruta con la ubicación de su archivo en Drive\n",
        "df = spark.read.csv(\"/content/drive/MyDrive/ruta/del/archivo.csv\", header=True, inferSchema=True)\n",
        "df.show()"
      ]
    },
    {
      "cell_type": "markdown",
      "id": "0f26de81",
      "metadata": {
        "id": "0f26de81"
      },
      "source": [
        "## 5. Realizar transformaciones y análisis distribuido"
      ]
    },
    {
      "cell_type": "code",
      "execution_count": null,
      "id": "44ef4316",
      "metadata": {
        "id": "44ef4316"
      },
      "outputs": [],
      "source": [
        "rdd = spark.sparkContext.parallelize([1, 2, 3, 4])\n",
        "rdd2 = rdd.map(lambda x: x * 2)\n",
        "print(rdd2.collect())"
      ]
    },
    {
      "cell_type": "code",
      "execution_count": null,
      "id": "9b3a2510",
      "metadata": {
        "id": "9b3a2510"
      },
      "outputs": [],
      "source": [
        "suma = rdd.reduce(lambda x, y: x + y)\n",
        "print(suma)"
      ]
    },
    {
      "cell_type": "code",
      "execution_count": null,
      "id": "22bac92b",
      "metadata": {
        "id": "22bac92b"
      },
      "outputs": [],
      "source": [
        "from pyspark.sql.functions import avg\n",
        "\n",
        "df_filtrado = df.filter(df[\"columna\"] > 30)\n",
        "df_filtrado.select(avg(\"columna\")).show()"
      ]
    },
    {
      "cell_type": "markdown",
      "id": "ccefcaf8",
      "metadata": {
        "id": "ccefcaf8"
      },
      "source": [
        "## 6. Guardar y descargar su trabajo\n",
        "- Archivo > Guardar una copia en Drive\n",
        "- Archivo > Descargar > Descargar como .ipynb"
      ]
    },
    {
      "cell_type": "code",
      "execution_count": null,
      "id": "6840a983",
      "metadata": {
        "id": "6840a983"
      },
      "outputs": [],
      "source": [
        "spark.stop()"
      ]
    }
  ],
  "metadata": {
    "colab": {
      "provenance": [],
      "include_colab_link": true
    }
  },
  "nbformat": 4,
  "nbformat_minor": 5
}