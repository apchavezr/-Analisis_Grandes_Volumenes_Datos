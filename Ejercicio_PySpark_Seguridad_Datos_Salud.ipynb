{
  "cells": [
    {
      "cell_type": "markdown",
      "metadata": {
        "id": "view-in-github",
        "colab_type": "text"
      },
      "source": [
        "<a href=\"https://colab.research.google.com/github/apchavezr/-Analisis_Grandes_Volumenes_Datos/blob/main/Ejercicio_PySpark_Seguridad_Datos_Salud.ipynb\" target=\"_parent\"><img src=\"https://colab.research.google.com/assets/colab-badge.svg\" alt=\"Open In Colab\"/></a>"
      ]
    },
    {
      "cell_type": "markdown",
      "id": "217515ec",
      "metadata": {
        "id": "217515ec"
      },
      "source": [
        "# 🏥 Seguridad y privacidad en el análisis de datos de salud usando PySpark\n",
        "Este notebook simula el procesamiento seguro de datos personales de salud en una entidad pública. Se incluyen prácticas como anonimización, control de acceso por roles y cifrado simbólico."
      ]
    },
    {
      "cell_type": "markdown",
      "id": "dd62cc16",
      "metadata": {
        "id": "dd62cc16"
      },
      "source": [
        "## 🎯 Objetivo\n",
        "Simular una estrategia básica de seguridad y privacidad de datos en salud, categorizando roles y aplicando técnicas de protección sobre datos sensibles."
      ]
    },
    {
      "cell_type": "code",
      "execution_count": 1,
      "id": "77eee176",
      "metadata": {
        "id": "77eee176"
      },
      "outputs": [],
      "source": [
        "# Paso 1: Inicializar sesión de Spark\n",
        "from pyspark.sql import SparkSession\n",
        "spark = SparkSession.builder.appName(\"SeguridadDatosSalud\").getOrCreate()"
      ]
    },
    {
      "cell_type": "code",
      "execution_count": 2,
      "id": "db2d42ad",
      "metadata": {
        "colab": {
          "base_uri": "https://localhost:8080/"
        },
        "id": "db2d42ad",
        "outputId": "673388bd-2348-442b-9dbd-4f88ffb34fbe"
      },
      "outputs": [
        {
          "output_type": "stream",
          "name": "stdout",
          "text": [
            "+---------+------------+----+------------+-------------+\n",
            "|       id|      nombre|edad| diagnostico|          rol|\n",
            "+---------+------------+----+------------+-------------+\n",
            "|123456789|Carlos Gómez|  45|    Diabetes|     analista|\n",
            "|987654321|  Laura Díaz|  30|Hipertensión|      auditor|\n",
            "|112233445|  Jorge Ruiz|  65|      Cáncer|desarrollador|\n",
            "|223344556|  Ana Torres|  52|        Asma|     analista|\n",
            "+---------+------------+----+------------+-------------+\n",
            "\n"
          ]
        }
      ],
      "source": [
        "# Paso 2: Crear datos simulados de pacientes con información sensible\n",
        "data = [\n",
        "    (\"123456789\", \"Carlos Gómez\", 45, \"Diabetes\", \"analista\"),\n",
        "    (\"987654321\", \"Laura Díaz\", 30, \"Hipertensión\", \"auditor\"),\n",
        "    (\"112233445\", \"Jorge Ruiz\", 65, \"Cáncer\", \"desarrollador\"),\n",
        "    (\"223344556\", \"Ana Torres\", 52, \"Asma\", \"analista\"),\n",
        "]\n",
        "columnas = [\"id\", \"nombre\", \"edad\", \"diagnostico\", \"rol\"]\n",
        "df = spark.createDataFrame(data, columnas)\n",
        "df.show()"
      ]
    },
    {
      "cell_type": "markdown",
      "id": "2cadab3e",
      "metadata": {
        "id": "2cadab3e"
      },
      "source": [
        "## 🔐 Paso 3: Anonimizar los datos personales (seudonimización del ID y ocultar nombre)\n",
        "Para proteger la identidad de los pacientes, se reemplazan sus identificaciones por hashes simbólicos y se ocultan los nombres."
      ]
    },
    {
      "cell_type": "code",
      "execution_count": 3,
      "id": "bf13e322",
      "metadata": {
        "colab": {
          "base_uri": "https://localhost:8080/"
        },
        "id": "bf13e322",
        "outputId": "25efe0ae-99ae-4881-dced-e418e1cb3eac"
      },
      "outputs": [
        {
          "output_type": "stream",
          "name": "stdout",
          "text": [
            "+----------------------------------------------------------------+-----------+----+------------+-------------+\n",
            "|id_hash                                                         |nombre     |edad|diagnostico |rol          |\n",
            "+----------------------------------------------------------------+-----------+----+------------+-------------+\n",
            "|15e2b0d3c33891ebb0f1ef609ec419420c20e320ce94c65fbc8c3312448eb225|[PROTEGIDO]|45  |Diabetes    |analista     |\n",
            "|8a9bcf1e51e812d0af8465a8dbcc9f741064bf0af3b3d08e6b0246437c19f7fb|[PROTEGIDO]|30  |Hipertensión|auditor      |\n",
            "|8aef254db3e4b69baff72c2d932f20a51a5e08b6e91b196b12f98d8151d12121|[PROTEGIDO]|65  |Cáncer      |desarrollador|\n",
            "|1d983d28d95dc1f0eae8a1e68dd366077b6f15344c2368d565ad0ef37edd40d3|[PROTEGIDO]|52  |Asma        |analista     |\n",
            "+----------------------------------------------------------------+-----------+----+------------+-------------+\n",
            "\n"
          ]
        }
      ],
      "source": [
        "from pyspark.sql.functions import sha2, concat_ws, lit\n",
        "df_seguro = df.withColumn(\"id_hash\", sha2(df.id, 256)) \\\n",
        "               .drop(\"id\") \\\n",
        "               .withColumn(\"nombre\", lit(\"[PROTEGIDO]\"))\n",
        "df_seguro.select(\"id_hash\", \"nombre\", \"edad\", \"diagnostico\", \"rol\").show(truncate=False)"
      ]
    },
    {
      "cell_type": "markdown",
      "id": "8bc0e344",
      "metadata": {
        "id": "8bc0e344"
      },
      "source": [
        "## 🔒 Paso 4: Control de acceso simulado por rol\n",
        "Un ejemplo de acceso segmentado: mostrar solo cierta información dependiendo del rol del usuario conectado."
      ]
    },
    {
      "cell_type": "code",
      "execution_count": 4,
      "id": "af6c211a",
      "metadata": {
        "colab": {
          "base_uri": "https://localhost:8080/"
        },
        "id": "af6c211a",
        "outputId": "fc9beca5-02ba-4c84-cecf-5ebf1451f802"
      },
      "outputs": [
        {
          "output_type": "stream",
          "name": "stdout",
          "text": [
            "+----+------------+\n",
            "|edad| diagnostico|\n",
            "+----+------------+\n",
            "|  45|    Diabetes|\n",
            "|  30|Hipertensión|\n",
            "|  65|      Cáncer|\n",
            "|  52|        Asma|\n",
            "+----+------------+\n",
            "\n"
          ]
        }
      ],
      "source": [
        "# Simulación: filtro para analistas (solo edad y diagnóstico)\n",
        "rol_usuario = \"analista\"\n",
        "if rol_usuario == \"analista\":\n",
        "    df_seguro.select(\"edad\", \"diagnostico\").show()\n",
        "elif rol_usuario == \"auditor\":\n",
        "    df_seguro.select(\"id_hash\", \"edad\", \"diagnostico\").show()\n",
        "elif rol_usuario == \"desarrollador\":\n",
        "    df_seguro.select(\"rol\").distinct().show()"
      ]
    },
    {
      "cell_type": "markdown",
      "id": "b2332e06",
      "metadata": {
        "id": "b2332e06"
      },
      "source": [
        "## ✅ Conclusión\n",
        "- Este ejercicio demuestra cómo aplicar principios de protección de datos personales en un entorno PySpark.\n",
        "- Se aplicó seudonimización y restricciones de acceso por rol, respetando el principio de minimización.\n",
        "- En contextos reales se complementaría con cifrado real (KMS), autenticación de usuarios y auditoría de accesos."
      ]
    }
  ],
  "metadata": {
    "colab": {
      "provenance": [],
      "include_colab_link": true
    },
    "language_info": {
      "name": "python"
    },
    "kernelspec": {
      "name": "python3",
      "display_name": "Python 3"
    }
  },
  "nbformat": 4,
  "nbformat_minor": 5
}