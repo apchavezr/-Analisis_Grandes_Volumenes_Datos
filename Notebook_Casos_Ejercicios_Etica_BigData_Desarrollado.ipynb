{
  "cells": [
    {
      "cell_type": "markdown",
      "metadata": {
        "id": "view-in-github",
        "colab_type": "text"
      },
      "source": [
        "<a href=\"https://colab.research.google.com/github/apchavezr/-Analisis_Grandes_Volumenes_Datos/blob/main/Notebook_Casos_Ejercicios_Etica_BigData_Desarrollado.ipynb\" target=\"_parent\"><img src=\"https://colab.research.google.com/assets/colab-badge.svg\" alt=\"Open In Colab\"/></a>"
      ]
    },
    {
      "cell_type": "markdown",
      "id": "b36c9b20",
      "metadata": {
        "id": "b36c9b20"
      },
      "source": [
        "# 📊 Ejercicios aplicados: análisis ético en proyectos de Big Data\n",
        "Este cuaderno propone ejercicios resueltos sobre dilemas éticos comunes en el uso de Big Data en contextos reales y simulados."
      ]
    },
    {
      "cell_type": "markdown",
      "id": "58da7ecd",
      "metadata": {
        "id": "58da7ecd"
      },
      "source": [
        "## 🎯 Objetivo del taller\n",
        "- Identificar dilemas éticos en el uso de datos masivos.\n",
        "- Aplicar marcos normativos y buenas prácticas.\n",
        "- Proponer soluciones para mitigar riesgos éticos."
      ]
    },
    {
      "cell_type": "markdown",
      "id": "2959f1f1",
      "metadata": {
        "id": "2959f1f1"
      },
      "source": [
        "## 🧪 Caso 1: Algoritmo de selección de estudiantes para becas universitarias"
      ]
    },
    {
      "cell_type": "code",
      "execution_count": null,
      "id": "f56b143e",
      "metadata": {
        "id": "f56b143e"
      },
      "outputs": [],
      "source": [
        "# Pregunta 1: ¿Qué sesgos pueden surgir del modelo?\n",
        "# Desarrollo:\n",
        "# - Puede existir sesgo si los datos de entrenamiento se basan en cohortes anteriores que favorecían a estudiantes de colegios privados o zonas urbanas.\n",
        "# - El modelo podría reflejar prejuicios implícitos relacionados con el nivel socioeconómico o el género, replicando desigualdades históricas.\n",
        "# - Si no se incluyen variables contextuales (ej. acceso a recursos), se penaliza a estudiantes con alto potencial en entornos adversos."
      ]
    },
    {
      "cell_type": "code",
      "execution_count": null,
      "id": "fefdd99b",
      "metadata": {
        "id": "fefdd99b"
      },
      "outputs": [],
      "source": [
        "# Pregunta 2: ¿Cómo se puede garantizar la equidad en la selección?\n",
        "# Desarrollo:\n",
        "# - Aplicar técnicas de fairness-aware machine learning, como balanceo por subgrupos antes del entrenamiento.\n",
        "# - Evaluar el rendimiento del modelo por estratos sociales, género y región para identificar posibles disparidades.\n",
        "# - Incluir revisión humana en los casos frontera o aplicar cuotas de corrección social para zonas vulnerables."
      ]
    },
    {
      "cell_type": "markdown",
      "id": "12d5e539",
      "metadata": {
        "id": "12d5e539"
      },
      "source": [
        "## 🧪 Caso 2: Monitoreo ciudadano mediante cámaras inteligentes"
      ]
    },
    {
      "cell_type": "code",
      "execution_count": null,
      "id": "05169503",
      "metadata": {
        "id": "05169503"
      },
      "outputs": [],
      "source": [
        "# Pregunta 1: ¿Qué riesgos éticos o legales puede implicar esta medida?\n",
        "# Desarrollo:\n",
        "# - Pérdida de privacidad por vigilancia permanente sin consentimiento explícito.\n",
        "# - Discriminación algorítmica si los sistemas de reconocimiento facial fallan más en personas afrodescendientes o indígenas.\n",
        "# - Posible uso indebido de datos con fines punitivos sin control institucional."
      ]
    },
    {
      "cell_type": "code",
      "execution_count": null,
      "id": "959cc751",
      "metadata": {
        "id": "959cc751"
      },
      "outputs": [],
      "source": [
        "# Pregunta 2: ¿Qué medidas pueden implementarse para proteger los derechos ciudadanos?\n",
        "# Desarrollo:\n",
        "# - Publicar protocolos de uso, retención y acceso a los videos capturados.\n",
        "# - Aplicar anonimización en tiempo real para evitar identificar ciudadanos innecesariamente.\n",
        "# - Establecer veeduría ciudadana o mecanismos de rendición de cuentas sobre el sistema."
      ]
    },
    {
      "cell_type": "markdown",
      "id": "ed8d9eb1",
      "metadata": {
        "id": "ed8d9eb1"
      },
      "source": [
        "## 🧪 Caso 3: Uso de redes sociales para predecir enfermedades mentales"
      ]
    },
    {
      "cell_type": "code",
      "execution_count": null,
      "id": "653a1057",
      "metadata": {
        "id": "653a1057"
      },
      "outputs": [],
      "source": [
        "# Pregunta 1: ¿Qué principios éticos podrían estar en riesgo en este proyecto?\n",
        "# Desarrollo:\n",
        "# - Vulneración del derecho a la intimidad y consentimiento informado.\n",
        "# - Riesgo de estigmatización si se clasifican perfiles sin acompañamiento profesional.\n",
        "# - Uso de datos personales sensibles sin evaluación de impacto ético previa."
      ]
    },
    {
      "cell_type": "code",
      "execution_count": null,
      "id": "a883c15a",
      "metadata": {
        "id": "a883c15a"
      },
      "outputs": [],
      "source": [
        "# Pregunta 2: ¿Qué normas o guías internacionales aplicarían en este contexto?\n",
        "# Desarrollo:\n",
        "# - Ley 1581 de 2012 (Colombia): regula el uso de datos sensibles y exige consentimiento.\n",
        "# - GDPR (Europa): garantiza el derecho a no ser objeto de decisiones automáticas sin revisión humana.\n",
        "# - Recomendación UNESCO (2021): uso ético y explicable de sistemas de IA en salud y contextos sociales."
      ]
    },
    {
      "cell_type": "markdown",
      "id": "b0d394f2",
      "metadata": {
        "id": "b0d394f2"
      },
      "source": [
        "## ✅ Actividad de cierre: matriz de riesgos éticos"
      ]
    },
    {
      "cell_type": "code",
      "execution_count": null,
      "id": "a4e95d51",
      "metadata": {
        "id": "a4e95d51"
      },
      "outputs": [],
      "source": [
        "# Ejemplo: Caso 1 – Selección de becas\n",
        "# Riesgo | Impacto | Probabilidad | Estrategia\n",
        "# -------|---------|--------------|-----------\n",
        "# Sesgo por colegio | Alto | Alta | Revisión del set de entrenamiento, inclusión de diversidad.\n",
        "# Exclusión de zonas rurales | Medio | Alta | Aplicar factor de corrección territorial.\n",
        "# Falta de explicabilidad | Alto | Media | Documentar reglas del modelo y ofrecer canal de reclamo."
      ]
    }
  ],
  "metadata": {
    "colab": {
      "provenance": [],
      "include_colab_link": true
    }
  },
  "nbformat": 4,
  "nbformat_minor": 5
}