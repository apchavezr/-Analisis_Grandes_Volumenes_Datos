{
  "cells": [
    {
      "cell_type": "markdown",
      "metadata": {
        "id": "view-in-github",
        "colab_type": "text"
      },
      "source": [
        "<a href=\"https://colab.research.google.com/github/apchavezr/-Analisis_Grandes_Volumenes_Datos/blob/main/Analisis_SQL_Spark_Datos_Publicos.ipynb\" target=\"_parent\"><img src=\"https://colab.research.google.com/assets/colab-badge.svg\" alt=\"Open In Colab\"/></a>"
      ]
    },
    {
      "cell_type": "markdown",
      "id": "0134e58b",
      "metadata": {
        "id": "0134e58b"
      },
      "source": [
        "# Análisis de datasets públicos con PySpark SQL\n",
        "\n",
        "Este cuaderno permite analizar un dataset público (en formato CSV) utilizando PySpark SQL para ejecutar consultas distribuidas."
      ]
    },
    {
      "cell_type": "code",
      "execution_count": 1,
      "id": "fb72bd29",
      "metadata": {
        "colab": {
          "base_uri": "https://localhost:8080/"
        },
        "id": "fb72bd29",
        "outputId": "6845452c-be75-40e5-e027-5ad05ec49c99"
      },
      "outputs": [
        {
          "output_type": "stream",
          "name": "stdout",
          "text": [
            "Requirement already satisfied: pyspark in /usr/local/lib/python3.11/dist-packages (3.5.5)\n",
            "Requirement already satisfied: py4j==0.10.9.7 in /usr/local/lib/python3.11/dist-packages (from pyspark) (0.10.9.7)\n"
          ]
        }
      ],
      "source": [
        "!pip install pyspark"
      ]
    },
    {
      "cell_type": "code",
      "execution_count": 2,
      "id": "296ea012",
      "metadata": {
        "id": "296ea012"
      },
      "outputs": [],
      "source": [
        "from pyspark.sql import SparkSession\n",
        "\n",
        "spark = SparkSession.builder     .appName(\"AnalisisDatosPublicosSQL\")     .getOrCreate()\n"
      ]
    },
    {
      "cell_type": "markdown",
      "id": "99e625de",
      "metadata": {
        "id": "99e625de"
      },
      "source": [
        "## Cargar datos desde archivo CSV\n",
        "Se utilizará un dataset simulado que representa datos abiertos de conectividad por municipio del Ministerio TIC de Colombia."
      ]
    },
    {
      "cell_type": "code",
      "execution_count": 3,
      "id": "c6f53eeb",
      "metadata": {
        "colab": {
          "base_uri": "https://localhost:8080/"
        },
        "id": "c6f53eeb",
        "outputId": "a3f1b8ad-75fb-44f1-e203-833d41af1ae7"
      },
      "outputs": [
        {
          "output_type": "stream",
          "name": "stdout",
          "text": [
            "+------------+--------------+----------+\n",
            "|   municipio| tipo_servicio|conexiones|\n",
            "+------------+--------------+----------+\n",
            "|      Bogotá| Internet fijo|   3500000|\n",
            "|    Medellín| Internet fijo|   1200000|\n",
            "|        Cali|Internet móvil|    900000|\n",
            "|Barranquilla| Internet fijo|    750000|\n",
            "|   Cartagena|Internet móvil|    500000|\n",
            "|      Soacha| Internet fijo|    400000|\n",
            "| Bucaramanga|Internet móvil|    600000|\n",
            "+------------+--------------+----------+\n",
            "\n"
          ]
        }
      ],
      "source": [
        "from pyspark.sql.types import StructType, StructField, StringType, IntegerType\n",
        "\n",
        "# Simulación de datos: municipios y número de conexiones\n",
        "datos = [\n",
        "    (\"Bogotá\", \"Internet fijo\", 3500000),\n",
        "    (\"Medellín\", \"Internet fijo\", 1200000),\n",
        "    (\"Cali\", \"Internet móvil\", 900000),\n",
        "    (\"Barranquilla\", \"Internet fijo\", 750000),\n",
        "    (\"Cartagena\", \"Internet móvil\", 500000),\n",
        "    (\"Soacha\", \"Internet fijo\", 400000),\n",
        "    (\"Bucaramanga\", \"Internet móvil\", 600000)\n",
        "]\n",
        "\n",
        "schema = StructType([\n",
        "    StructField(\"municipio\", StringType(), True),\n",
        "    StructField(\"tipo_servicio\", StringType(), True),\n",
        "    StructField(\"conexiones\", IntegerType(), True)\n",
        "])\n",
        "\n",
        "df = spark.createDataFrame(datos, schema)\n",
        "df.show()\n"
      ]
    },
    {
      "cell_type": "markdown",
      "id": "00787a5c",
      "metadata": {
        "id": "00787a5c"
      },
      "source": [
        "## Consultas SQL distribuidas sobre los datos"
      ]
    },
    {
      "cell_type": "code",
      "execution_count": 4,
      "id": "a48b0a36",
      "metadata": {
        "colab": {
          "base_uri": "https://localhost:8080/"
        },
        "id": "a48b0a36",
        "outputId": "87e4b2f2-fb86-4ef2-cad8-f0dfb11b3a0e"
      },
      "outputs": [
        {
          "output_type": "stream",
          "name": "stdout",
          "text": [
            "+--------------+----------------+\n",
            "| tipo_servicio|total_conexiones|\n",
            "+--------------+----------------+\n",
            "| Internet fijo|         5850000|\n",
            "|Internet móvil|         2000000|\n",
            "+--------------+----------------+\n",
            "\n"
          ]
        }
      ],
      "source": [
        "# Registrar vista temporal\n",
        "df.createOrReplaceTempView(\"conectividad\")\n",
        "\n",
        "# Consultar total de conexiones por tipo de servicio\n",
        "consulta1 = spark.sql(\"\"\"\n",
        "SELECT tipo_servicio, SUM(conexiones) as total_conexiones\n",
        "FROM conectividad\n",
        "GROUP BY tipo_servicio\n",
        "\"\"\")\n",
        "consulta1.show()\n"
      ]
    },
    {
      "cell_type": "code",
      "execution_count": 5,
      "id": "bbf2e995",
      "metadata": {
        "colab": {
          "base_uri": "https://localhost:8080/"
        },
        "id": "bbf2e995",
        "outputId": "730adbc6-2e4a-405f-ba6b-3fe58a7f3244"
      },
      "outputs": [
        {
          "output_type": "stream",
          "name": "stdout",
          "text": [
            "+---------+----------+\n",
            "|municipio|conexiones|\n",
            "+---------+----------+\n",
            "|   Bogotá|   3500000|\n",
            "| Medellín|   1200000|\n",
            "|     Cali|    900000|\n",
            "+---------+----------+\n",
            "\n"
          ]
        }
      ],
      "source": [
        "# Consultar municipios con más de 800000 conexiones\n",
        "consulta2 = spark.sql(\"\"\"\n",
        "SELECT municipio, conexiones\n",
        "FROM conectividad\n",
        "WHERE conexiones > 800000\n",
        "ORDER BY conexiones DESC\n",
        "\"\"\")\n",
        "consulta2.show()\n"
      ]
    },
    {
      "cell_type": "markdown",
      "id": "330a0d47",
      "metadata": {
        "id": "330a0d47"
      },
      "source": [
        "## Reflexión sobre el uso de Spark SQL"
      ]
    },
    {
      "cell_type": "markdown",
      "id": "a613e32d",
      "metadata": {
        "id": "a613e32d"
      },
      "source": [
        "- Aunque este dataset es pequeño, las mismas operaciones pueden escalar a millones de registros sin modificar el código.\n",
        "- Spark SQL distribuye las tareas de consulta entre nodos del clúster, lo cual reduce tiempos de espera en escenarios reales.\n",
        "- La integración entre DataFrames y SQL permite trabajar con datos estructurados de manera flexible, combinando código Python y lenguaje declarativo.\n",
        "\n",
        "**Recomendación:** Descargue datasets reales de portales abiertos como https://www.datos.gov.co o https://microdatos.dane.gov.co para practicar con volúmenes mayores."
      ]
    }
  ],
  "metadata": {
    "colab": {
      "provenance": [],
      "include_colab_link": true
    },
    "language_info": {
      "name": "python"
    },
    "kernelspec": {
      "name": "python3",
      "display_name": "Python 3"
    }
  },
  "nbformat": 4,
  "nbformat_minor": 5
}