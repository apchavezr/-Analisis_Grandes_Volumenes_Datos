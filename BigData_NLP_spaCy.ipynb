{
  "cells": [
    {
      "cell_type": "markdown",
      "metadata": {
        "id": "view-in-github",
        "colab_type": "text"
      },
      "source": [
        "<a href=\"https://colab.research.google.com/github/apchavezr/-Analisis_Grandes_Volumenes_Datos/blob/main/BigData_NLP_spaCy.ipynb\" target=\"_parent\"><img src=\"https://colab.research.google.com/assets/colab-badge.svg\" alt=\"Open In Colab\"/></a>"
      ]
    },
    {
      "cell_type": "markdown",
      "id": "a19b4ee3",
      "metadata": {
        "id": "a19b4ee3"
      },
      "source": [
        "\n",
        "# Análisis de Datos No Estructurados con spaCy\n",
        "\n",
        "Este notebook hace parte de la unidad *Fundamentos conceptuales y tipos de datos en entornos Big Data* y tiene como objetivo mostrar cómo procesar **datos no estructurados** (textos jurídicos o administrativos) utilizando técnicas de procesamiento de lenguaje natural con la biblioteca **spaCy** en español.\n",
        "\n",
        "### Objetivo\n",
        "Extraer entidades nombradas (como instituciones, lugares y fechas) de un texto simulado de una sentencia judicial, y discutir su aplicabilidad en entornos de Big Data en Colombia.\n",
        "\n"
      ]
    },
    {
      "cell_type": "code",
      "execution_count": 1,
      "id": "0f5dadd1",
      "metadata": {
        "colab": {
          "base_uri": "https://localhost:8080/"
        },
        "id": "0f5dadd1",
        "outputId": "333a64db-7844-4450-eded-721f2d50ae41"
      },
      "outputs": [
        {
          "output_type": "stream",
          "name": "stdout",
          "text": [
            "Collecting es-core-news-sm==3.8.0\n",
            "  Downloading https://github.com/explosion/spacy-models/releases/download/es_core_news_sm-3.8.0/es_core_news_sm-3.8.0-py3-none-any.whl (12.9 MB)\n",
            "\u001b[2K     \u001b[90m━━━━━━━━━━━━━━━━━━━━━━━━━━━━━━━━━━━━━━━━\u001b[0m \u001b[32m12.9/12.9 MB\u001b[0m \u001b[31m68.3 MB/s\u001b[0m eta \u001b[36m0:00:00\u001b[0m\n",
            "\u001b[?25hInstalling collected packages: es-core-news-sm\n",
            "Successfully installed es-core-news-sm-3.8.0\n",
            "\u001b[38;5;2m✔ Download and installation successful\u001b[0m\n",
            "You can now load the package via spacy.load('es_core_news_sm')\n",
            "\u001b[38;5;3m⚠ Restart to reload dependencies\u001b[0m\n",
            "If you are in a Jupyter or Colab notebook, you may need to restart Python in\n",
            "order to load all the package's dependencies. You can do this by selecting the\n",
            "'Restart kernel' or 'Restart runtime' option.\n"
          ]
        }
      ],
      "source": [
        "\n",
        "# Instalación de spaCy y el modelo en español (si no está instalado)\n",
        "!pip install -q spacy\n",
        "!python -m spacy download es_core_news_sm\n"
      ]
    },
    {
      "cell_type": "code",
      "execution_count": 3,
      "id": "2cec7c7f",
      "metadata": {
        "colab": {
          "base_uri": "https://localhost:8080/"
        },
        "id": "2cec7c7f",
        "outputId": "a234e1b8-c72a-4e72-fddb-0000da90968b"
      },
      "outputs": [
        {
          "output_type": "stream",
          "name": "stdout",
          "text": [
            "Entidades nombradas encontradas:\n",
            "- Corte Constitucional de Colombia (ORG)\n",
            "- Ministerio de Salud (MISC)\n",
            "- Plan Obligatorio de Salud (MISC)\n",
            "- POS (MISC)\n",
            "- Bogotá (LOC)\n"
          ]
        }
      ],
      "source": [
        "\n",
        "import spacy\n",
        "\n",
        "# Cargar el modelo de lenguaje en español\n",
        "nlp = spacy.load(\"es_core_news_sm\")\n",
        "\n",
        "# Texto simulado de una sentencia judicial\n",
        "texto_sentencia = '''\n",
        "La Corte Constitucional de Colombia, en su sentencia T-760 de 2008, ordenó al Ministerio de Salud revisar el Plan Obligatorio de Salud (POS).\n",
        "La decisión fue tomada en Bogotá el 31 de julio de 2008.\n",
        "'''\n",
        "\n",
        "# Procesar el texto con spaCy\n",
        "doc = nlp(texto_sentencia)\n",
        "\n",
        "# Mostrar entidades nombradas\n",
        "print(\"Entidades nombradas encontradas:\")\n",
        "for ent in doc.ents:\n",
        "    print(f\"- {ent.text} ({ent.label_})\")\n"
      ]
    },
    {
      "cell_type": "markdown",
      "id": "51d221ad",
      "metadata": {
        "id": "51d221ad"
      },
      "source": [
        "\n",
        "### Reflexión\n",
        "\n",
        "Este ejemplo muestra cómo a partir de datos no estructurados es posible extraer información clave, como organizaciones, fechas y ubicaciones. Estas entidades pueden luego convertirse en variables para análisis cuantitativo, visualización o cruce con bases estructuradas.\n",
        "\n",
        "**Aplicaciones posibles en Colombia:**\n",
        "- Análisis de decisiones judiciales de la Corte Constitucional.\n",
        "- Extracción de patrones en textos de participación ciudadana en portales como Bogotá Abierta.\n",
        "- Validación automatizada de fuentes de texto con criterios de veracidad.\n",
        "\n",
        "---\n",
        "\n",
        "Este proceso permite abordar dos de las 5 Vs del Big Data:\n",
        "- **Veracidad**, al evaluar y organizar datos textuales desordenados.\n",
        "- **Valor**, al transformar el texto en información útil para análisis posteriores.\n"
      ]
    }
  ],
  "metadata": {
    "colab": {
      "provenance": [],
      "include_colab_link": true
    },
    "language_info": {
      "name": "python"
    },
    "kernelspec": {
      "name": "python3",
      "display_name": "Python 3"
    }
  },
  "nbformat": 4,
  "nbformat_minor": 5
}