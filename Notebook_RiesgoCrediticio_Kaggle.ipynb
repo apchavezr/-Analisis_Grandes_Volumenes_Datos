{
  "cells": [
    {
      "cell_type": "markdown",
      "metadata": {
        "id": "view-in-github",
        "colab_type": "text"
      },
      "source": [
        "<a href=\"https://colab.research.google.com/github/apchavezr/-Analisis_Grandes_Volumenes_Datos/blob/main/Notebook_RiesgoCrediticio_Kaggle.ipynb\" target=\"_parent\"><img src=\"https://colab.research.google.com/assets/colab-badge.svg\" alt=\"Open In Colab\"/></a>"
      ]
    },
    {
      "cell_type": "markdown",
      "metadata": {
        "id": "5qN1zAud7TOI"
      },
      "source": [
        "# Predicción de Riesgo Crediticio con PySpark usando el dataset de Kaggle\n",
        "\n",
        "Este cuaderno utiliza el conjunto de datos de crédito publicado en Kaggle por el UCI Machine Learning Repository.\n",
        "\n",
        "- Dataset: [Default of Credit Card Clients Dataset](https://www.kaggle.com/datasets/uciml/default-of-credit-card-clients-dataset)\n",
        "- Archivo: `UCI_Credit_Card.csv`\n",
        "\n",
        "## Instrucciones\n",
        "1. Descargue manualmente el archivo desde Kaggle.\n",
        "2. Cárguelo al entorno de ejecución (por ejemplo, Google Colab).\n",
        "3. Ejecute las celdas paso a paso para entrenar y evaluar un modelo de clasificación con PySpark."
      ]
    },
    {
      "cell_type": "code",
      "metadata": {
        "colab": {
          "base_uri": "https://localhost:8080/"
        },
        "id": "yiNcKrpI7TOL",
        "outputId": "c2cd189d-e0fa-4224-c3f8-6945d15f892c"
      },
      "execution_count": 1,
      "outputs": [
        {
          "output_type": "stream",
          "name": "stdout",
          "text": [
            "Requirement already satisfied: pyspark in /usr/local/lib/python3.11/dist-packages (3.5.5)\n",
            "Requirement already satisfied: py4j==0.10.9.7 in /usr/local/lib/python3.11/dist-packages (from pyspark) (0.10.9.7)\n"
          ]
        }
      ],
      "source": [
        "# Si está usando Google Colab, instale PySpark\n",
        "!pip install pyspark"
      ]
    },
    {
      "cell_type": "code",
      "metadata": {
        "id": "PtCqEpAu7TOM"
      },
      "execution_count": 2,
      "outputs": [],
      "source": [
        "# Librerías de PySpark\n",
        "from pyspark.sql import SparkSession\n",
        "from pyspark.ml.feature import StringIndexer, VectorAssembler, StandardScaler\n",
        "from pyspark.ml.classification import LogisticRegression\n",
        "from pyspark.ml import Pipeline\n",
        "from pyspark.ml.evaluation import BinaryClassificationEvaluator"
      ]
    },
    {
      "cell_type": "code",
      "metadata": {
        "id": "Ot_3d4be7TOM"
      },
      "execution_count": 3,
      "outputs": [],
      "source": [
        "# Crear SparkSession\n",
        "spark = SparkSession.builder.appName(\"RiesgoCrediticioKaggle\").getOrCreate()"
      ]
    },
    {
      "cell_type": "markdown",
      "metadata": {
        "id": "hkgwk4Dj7TOM"
      },
      "source": [
        "### Subir archivo manualmente (`UCI_Credit_Card.csv`)\n",
        "En Google Colab, puede usar el siguiente bloque para cargar el archivo:"
      ]
    },
    {
      "cell_type": "code",
      "metadata": {
        "colab": {
          "base_uri": "https://localhost:8080/",
          "height": 73
        },
        "id": "t2sN5q_V7TON",
        "outputId": "b70658dd-ba27-4aed-a4aa-7b6179d407d5"
      },
      "execution_count": 4,
      "outputs": [
        {
          "output_type": "display_data",
          "data": {
            "text/plain": [
              "<IPython.core.display.HTML object>"
            ],
            "text/html": [
              "\n",
              "     <input type=\"file\" id=\"files-31080e07-7113-4a78-b10d-0fa8e3d460f4\" name=\"files[]\" multiple disabled\n",
              "        style=\"border:none\" />\n",
              "     <output id=\"result-31080e07-7113-4a78-b10d-0fa8e3d460f4\">\n",
              "      Upload widget is only available when the cell has been executed in the\n",
              "      current browser session. Please rerun this cell to enable.\n",
              "      </output>\n",
              "      <script>// Copyright 2017 Google LLC\n",
              "//\n",
              "// Licensed under the Apache License, Version 2.0 (the \"License\");\n",
              "// you may not use this file except in compliance with the License.\n",
              "// You may obtain a copy of the License at\n",
              "//\n",
              "//      http://www.apache.org/licenses/LICENSE-2.0\n",
              "//\n",
              "// Unless required by applicable law or agreed to in writing, software\n",
              "// distributed under the License is distributed on an \"AS IS\" BASIS,\n",
              "// WITHOUT WARRANTIES OR CONDITIONS OF ANY KIND, either express or implied.\n",
              "// See the License for the specific language governing permissions and\n",
              "// limitations under the License.\n",
              "\n",
              "/**\n",
              " * @fileoverview Helpers for google.colab Python module.\n",
              " */\n",
              "(function(scope) {\n",
              "function span(text, styleAttributes = {}) {\n",
              "  const element = document.createElement('span');\n",
              "  element.textContent = text;\n",
              "  for (const key of Object.keys(styleAttributes)) {\n",
              "    element.style[key] = styleAttributes[key];\n",
              "  }\n",
              "  return element;\n",
              "}\n",
              "\n",
              "// Max number of bytes which will be uploaded at a time.\n",
              "const MAX_PAYLOAD_SIZE = 100 * 1024;\n",
              "\n",
              "function _uploadFiles(inputId, outputId) {\n",
              "  const steps = uploadFilesStep(inputId, outputId);\n",
              "  const outputElement = document.getElementById(outputId);\n",
              "  // Cache steps on the outputElement to make it available for the next call\n",
              "  // to uploadFilesContinue from Python.\n",
              "  outputElement.steps = steps;\n",
              "\n",
              "  return _uploadFilesContinue(outputId);\n",
              "}\n",
              "\n",
              "// This is roughly an async generator (not supported in the browser yet),\n",
              "// where there are multiple asynchronous steps and the Python side is going\n",
              "// to poll for completion of each step.\n",
              "// This uses a Promise to block the python side on completion of each step,\n",
              "// then passes the result of the previous step as the input to the next step.\n",
              "function _uploadFilesContinue(outputId) {\n",
              "  const outputElement = document.getElementById(outputId);\n",
              "  const steps = outputElement.steps;\n",
              "\n",
              "  const next = steps.next(outputElement.lastPromiseValue);\n",
              "  return Promise.resolve(next.value.promise).then((value) => {\n",
              "    // Cache the last promise value to make it available to the next\n",
              "    // step of the generator.\n",
              "    outputElement.lastPromiseValue = value;\n",
              "    return next.value.response;\n",
              "  });\n",
              "}\n",
              "\n",
              "/**\n",
              " * Generator function which is called between each async step of the upload\n",
              " * process.\n",
              " * @param {string} inputId Element ID of the input file picker element.\n",
              " * @param {string} outputId Element ID of the output display.\n",
              " * @return {!Iterable<!Object>} Iterable of next steps.\n",
              " */\n",
              "function* uploadFilesStep(inputId, outputId) {\n",
              "  const inputElement = document.getElementById(inputId);\n",
              "  inputElement.disabled = false;\n",
              "\n",
              "  const outputElement = document.getElementById(outputId);\n",
              "  outputElement.innerHTML = '';\n",
              "\n",
              "  const pickedPromise = new Promise((resolve) => {\n",
              "    inputElement.addEventListener('change', (e) => {\n",
              "      resolve(e.target.files);\n",
              "    });\n",
              "  });\n",
              "\n",
              "  const cancel = document.createElement('button');\n",
              "  inputElement.parentElement.appendChild(cancel);\n",
              "  cancel.textContent = 'Cancel upload';\n",
              "  const cancelPromise = new Promise((resolve) => {\n",
              "    cancel.onclick = () => {\n",
              "      resolve(null);\n",
              "    };\n",
              "  });\n",
              "\n",
              "  // Wait for the user to pick the files.\n",
              "  const files = yield {\n",
              "    promise: Promise.race([pickedPromise, cancelPromise]),\n",
              "    response: {\n",
              "      action: 'starting',\n",
              "    }\n",
              "  };\n",
              "\n",
              "  cancel.remove();\n",
              "\n",
              "  // Disable the input element since further picks are not allowed.\n",
              "  inputElement.disabled = true;\n",
              "\n",
              "  if (!files) {\n",
              "    return {\n",
              "      response: {\n",
              "        action: 'complete',\n",
              "      }\n",
              "    };\n",
              "  }\n",
              "\n",
              "  for (const file of files) {\n",
              "    const li = document.createElement('li');\n",
              "    li.append(span(file.name, {fontWeight: 'bold'}));\n",
              "    li.append(span(\n",
              "        `(${file.type || 'n/a'}) - ${file.size} bytes, ` +\n",
              "        `last modified: ${\n",
              "            file.lastModifiedDate ? file.lastModifiedDate.toLocaleDateString() :\n",
              "                                    'n/a'} - `));\n",
              "    const percent = span('0% done');\n",
              "    li.appendChild(percent);\n",
              "\n",
              "    outputElement.appendChild(li);\n",
              "\n",
              "    const fileDataPromise = new Promise((resolve) => {\n",
              "      const reader = new FileReader();\n",
              "      reader.onload = (e) => {\n",
              "        resolve(e.target.result);\n",
              "      };\n",
              "      reader.readAsArrayBuffer(file);\n",
              "    });\n",
              "    // Wait for the data to be ready.\n",
              "    let fileData = yield {\n",
              "      promise: fileDataPromise,\n",
              "      response: {\n",
              "        action: 'continue',\n",
              "      }\n",
              "    };\n",
              "\n",
              "    // Use a chunked sending to avoid message size limits. See b/62115660.\n",
              "    let position = 0;\n",
              "    do {\n",
              "      const length = Math.min(fileData.byteLength - position, MAX_PAYLOAD_SIZE);\n",
              "      const chunk = new Uint8Array(fileData, position, length);\n",
              "      position += length;\n",
              "\n",
              "      const base64 = btoa(String.fromCharCode.apply(null, chunk));\n",
              "      yield {\n",
              "        response: {\n",
              "          action: 'append',\n",
              "          file: file.name,\n",
              "          data: base64,\n",
              "        },\n",
              "      };\n",
              "\n",
              "      let percentDone = fileData.byteLength === 0 ?\n",
              "          100 :\n",
              "          Math.round((position / fileData.byteLength) * 100);\n",
              "      percent.textContent = `${percentDone}% done`;\n",
              "\n",
              "    } while (position < fileData.byteLength);\n",
              "  }\n",
              "\n",
              "  // All done.\n",
              "  yield {\n",
              "    response: {\n",
              "      action: 'complete',\n",
              "    }\n",
              "  };\n",
              "}\n",
              "\n",
              "scope.google = scope.google || {};\n",
              "scope.google.colab = scope.google.colab || {};\n",
              "scope.google.colab._files = {\n",
              "  _uploadFiles,\n",
              "  _uploadFilesContinue,\n",
              "};\n",
              "})(self);\n",
              "</script> "
            ]
          },
          "metadata": {}
        },
        {
          "output_type": "stream",
          "name": "stdout",
          "text": [
            "Saving UCI_Credit_Card.csv to UCI_Credit_Card (1).csv\n"
          ]
        }
      ],
      "source": [
        "from google.colab import files\n",
        "uploaded = files.upload()"
      ]
    },
    {
      "cell_type": "markdown",
      "metadata": {
        "id": "8UpdRzWJ7TON"
      },
      "source": [
        "### Cargar y explorar los datos\n",
        "El dataset contiene 30,000 registros con variables socioeconómicas y de comportamiento financiero."
      ]
    },
    {
      "cell_type": "code",
      "metadata": {
        "colab": {
          "base_uri": "https://localhost:8080/"
        },
        "id": "K4gUvtQK7TON",
        "outputId": "85a167df-f69e-45a4-bf1f-ce0e1343817d"
      },
      "execution_count": 5,
      "outputs": [
        {
          "output_type": "stream",
          "name": "stdout",
          "text": [
            "+---------+---+---------+--------+---+-----+\n",
            "|LIMIT_BAL|AGE|EDUCATION|MARRIAGE|SEX|label|\n",
            "+---------+---+---------+--------+---+-----+\n",
            "|  20000.0| 24|        2|       1|  2|    1|\n",
            "| 120000.0| 26|        2|       2|  2|    1|\n",
            "|  90000.0| 34|        2|       2|  2|    0|\n",
            "|  50000.0| 37|        2|       1|  2|    0|\n",
            "|  50000.0| 57|        2|       1|  1|    0|\n",
            "+---------+---+---------+--------+---+-----+\n",
            "only showing top 5 rows\n",
            "\n"
          ]
        }
      ],
      "source": [
        "df = spark.read.csv(\"UCI_Credit_Card.csv\", header=True, inferSchema=True)\n",
        "df = df.withColumnRenamed(\"default.payment.next.month\", \"label\")\n",
        "df.select(\"LIMIT_BAL\", \"AGE\", \"EDUCATION\", \"MARRIAGE\", \"SEX\", \"label\").show(5)"
      ]
    },
    {
      "cell_type": "markdown",
      "metadata": {
        "id": "AiUHRtCA7TON"
      },
      "source": [
        "### Preparar pipeline de clasificación"
      ]
    },
    {
      "cell_type": "code",
      "metadata": {
        "id": "hd43o2jY7TON"
      },
      "execution_count": 6,
      "outputs": [],
      "source": [
        "indexers = [\n",
        "    StringIndexer(inputCol=col, outputCol=col+\"_idx\")\n",
        "    for col in [\"EDUCATION\", \"MARRIAGE\", \"SEX\"]\n",
        "]\n",
        "assembler = VectorAssembler(\n",
        "    inputCols=[\"LIMIT_BAL\", \"AGE\"] + [col+\"_idx\" for col in [\"EDUCATION\", \"MARRIAGE\", \"SEX\"]],\n",
        "    outputCol=\"features_raw\")\n",
        "scaler = StandardScaler(inputCol=\"features_raw\", outputCol=\"features\")\n",
        "lr = LogisticRegression(featuresCol=\"features\", labelCol=\"label\")\n",
        "pipeline = Pipeline(stages=indexers + [assembler, scaler, lr])"
      ]
    },
    {
      "cell_type": "code",
      "metadata": {
        "colab": {
          "base_uri": "https://localhost:8080/"
        },
        "id": "mSMVtPJO7TOO",
        "outputId": "dfb143b1-9ee9-4a8d-d02c-8782cafb5c5a"
      },
      "execution_count": 7,
      "outputs": [
        {
          "output_type": "stream",
          "name": "stdout",
          "text": [
            "+-----+----------+--------------------+\n",
            "|label|prediction|         probability|\n",
            "+-----+----------+--------------------+\n",
            "|    1|       0.0|[0.69400241111226...|\n",
            "|    1|       0.0|[0.78484208412147...|\n",
            "|    0|       0.0|[0.75881277160846...|\n",
            "|    0|       0.0|[0.69929370572321...|\n",
            "|    0|       0.0|[0.63602236063087...|\n",
            "+-----+----------+--------------------+\n",
            "only showing top 5 rows\n",
            "\n"
          ]
        }
      ],
      "source": [
        "# Entrenamiento del modelo\n",
        "modelo = pipeline.fit(df)\n",
        "predicciones = modelo.transform(df)\n",
        "predicciones.select(\"label\", \"prediction\", \"probability\").show(5)"
      ]
    },
    {
      "cell_type": "markdown",
      "metadata": {
        "id": "qxNiqErQ7TOO"
      },
      "source": [
        "### Evaluación del modelo"
      ]
    },
    {
      "cell_type": "code",
      "metadata": {
        "colab": {
          "base_uri": "https://localhost:8080/"
        },
        "id": "atmptmgc7TOO",
        "outputId": "8502dcce-1795-4eda-e616-f9a0379b0d81"
      },
      "execution_count": 8,
      "outputs": [
        {
          "output_type": "stream",
          "name": "stdout",
          "text": [
            "Área bajo la curva (AUC): 0.6223\n"
          ]
        }
      ],
      "source": [
        "evaluador = BinaryClassificationEvaluator()\n",
        "auc = evaluador.evaluate(predicciones)\n",
        "print(f\"Área bajo la curva (AUC): {auc:.4f}\")"
      ]
    },
    {
      "cell_type": "markdown",
      "metadata": {
        "id": "oC7XGfDi7TOO"
      },
      "source": [
        "### Conclusión\n",
        "Este pipeline permite automatizar el análisis de riesgo crediticio utilizando datos reales. El uso de PySpark facilita su ejecución distribuida, y puede integrarse en entornos de producción con herramientas como Airflow y Kafka."
      ]
    }
  ],
  "metadata": {
    "kernelspec": {
      "display_name": "Python 3",
      "language": "python",
      "name": "python3"
    },
    "language_info": {
      "name": "python",
      "version": "3.x"
    },
    "colab": {
      "provenance": [],
      "include_colab_link": true
    }
  },
  "nbformat": 4,
  "nbformat_minor": 0
}